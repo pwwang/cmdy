{
 "cells": [
  {
   "cell_type": "code",
   "execution_count": 1,
   "metadata": {},
   "outputs": [],
   "source": [
    "import sys\n",
    "import re\n",
    "import traceback\n",
    "import IPython\n",
    "\n",
    "# replace the trackback handler to hide paths on server\n",
    "def exception_hook(*args, **kwargs):\n",
    "    lines = traceback.format_exception(*sys.exc_info())\n",
    "    lines = [lines[0]] + lines[2:]\n",
    "    lines = [re.sub(r'^.+(/cmdy/.+\\.py)', r'/path/.../to\\1', line) for line in lines]\n",
    "    lines = [re.sub(r'^.+(/miniconda3/.+\\.py)', r'/path/.../to\\1', line) for line in lines]\n",
    "    sys.stderr.write(''.join(lines))\n",
    "    \n",
    "IPython.core.interactiveshell.InteractiveShell.showtraceback = exception_hook"
   ]
  },
  {
   "cell_type": "markdown",
   "metadata": {},
   "source": [
    "# Usage\n",
    "\n",
    "To run this demo, please clone the whole repository."
   ]
  },
  {
   "cell_type": "markdown",
   "metadata": {},
   "source": [
    "## Basic usage"
   ]
  },
  {
   "cell_type": "code",
   "execution_count": 2,
   "metadata": {},
   "outputs": [],
   "source": [
    "from cmdy import ls"
   ]
  },
  {
   "cell_type": "code",
   "execution_count": 3,
   "metadata": {},
   "outputs": [
    {
     "name": "stdout",
     "output_type": "stream",
     "text": [
      "LICENSE\n",
      "README.md\n",
      "cmdy\n",
      "cmdy.egg-info\n",
      "demo.ipynb\n",
      "dist\n",
      "echo.py\n",
      "pyproject.toml\n",
      "setup.py\n",
      "tests\n",
      "\n"
     ]
    }
   ],
   "source": [
    "print(ls())"
   ]
  },
  {
   "cell_type": "code",
   "execution_count": 4,
   "metadata": {},
   "outputs": [
    {
     "name": "stdout",
     "output_type": "stream",
     "text": [
      "Got: LICENSE\n",
      "Got: README.md\n",
      "Got: cmdy\n",
      "Got: cmdy.egg-info\n",
      "Got: demo.ipynb\n",
      "Got: dist\n",
      "Got: echo.py\n",
      "Got: pyproject.toml\n",
      "Got: setup.py\n",
      "Got: tests\n"
     ]
    }
   ],
   "source": [
    "for line in ls().iter():\n",
    "    print('Got:', line, end='')"
   ]
  },
  {
   "cell_type": "markdown",
   "metadata": {},
   "source": [
    "## With non-keyword arguments"
   ]
  },
  {
   "cell_type": "code",
   "execution_count": 5,
   "metadata": {},
   "outputs": [
    {
     "name": "stdout",
     "output_type": "stream",
     "text": [
      "./cmdy/\n",
      "./cmdy/cmdy_defaults.py\n",
      "./cmdy/cmdy_result.py\n",
      "./cmdy/cmdy_bakeable.py\n",
      "./cmdy/__pycache__/\n",
      "./cmdy/__pycache__/cmdy_util.cpython-39.pyc\n",
      "./cmdy/__pycache__/defaults.cpython-39.pyc\n",
      "./cmdy/__pycache__/cmdy_plugin.cpython-39.pyc\n",
      "./cmdy/__pycache__/cmdy_defaults.cpython-39.pyc\n",
      "./cmdy/__pycache__/bakeable.cpython-39.pyc\n",
      "./cmdy/__pycache__/__init__.cpython-37.pyc\n",
      "./cmdy/__pycache__/cmdy_util.cpython-37.pyc\n",
      "./cmdy/__pycache__/plugin.cpython-39.pyc\n",
      "./cmdy/__pycache__/exceptions.cpython-39.pyc\n",
      "./cmdy/__pycache__/cmdy_utils.cpython-39.pyc\n",
      "./cmdy/__pycache__/__init__.cpython-39.pyc\n",
      "./cmdy/__pycache__/cmdy_result.cpython-39.pyc\n",
      "./cmdy/__pycache__/cmdy.cpython-39.pyc\n",
      "./cmdy/__pycache__/cmdy_plugin.cpython-37.pyc\n",
      "./cmdy/__pycache__/result.cpython-39.pyc\n",
      "./cmdy/__pycache__/cmdy_exceptions.cpython-39.pyc\n",
      "./cmdy/__pycache__/utils.cpython-39.pyc\n",
      "./cmdy/__pycache__/proxy.cpython-39.pyc\n",
      "./cmdy/__pycache__/cmdy_bakeable.cpython-39.pyc\n",
      "./cmdy/cmdy_utils.py\n",
      "./cmdy/cmdy_exceptions.py\n",
      "./cmdy/cmdy_plugins/\n",
      "./cmdy/cmdy_plugins/fg.py\n",
      "./cmdy/cmdy_plugins/__pycache__/\n",
      "./cmdy/cmdy_plugins/__pycache__/pipe.cpython-39.pyc\n",
      "./cmdy/cmdy_plugins/__pycache__/redirect.cpython-39.pyc\n",
      "./cmdy/cmdy_plugins/__pycache__/fg.cpython-39.pyc\n",
      "./cmdy/cmdy_plugins/__pycache__/value.cpython-39.pyc\n",
      "./cmdy/cmdy_plugins/__pycache__/__init__.cpython-39.pyc\n",
      "./cmdy/cmdy_plugins/__pycache__/iter.cpython-39.pyc\n",
      "./cmdy/cmdy_plugins/value.py\n",
      "./cmdy/cmdy_plugins/pipe.py\n",
      "./cmdy/cmdy_plugins/redirect.py\n",
      "./cmdy/cmdy_plugins/iter.py\n",
      "./cmdy/cmdy_plugins/__init__.py\n",
      "./cmdy/cmdy_plugin.py\n",
      "./cmdy/__init__.py\n",
      "./cmdy/cmdy.py\n",
      "\n"
     ]
    }
   ],
   "source": [
    "from cmdy import tar\n",
    "print(tar(\"cvf\", \"/tmp/test.tar\", \"./cmdy\"))"
   ]
  },
  {
   "cell_type": "markdown",
   "metadata": {},
   "source": [
    "## With keyword arguments"
   ]
  },
  {
   "cell_type": "code",
   "execution_count": 6,
   "metadata": {},
   "outputs": [
    {
     "data": {
      "text/plain": [
       "<CmdyResult: ['curl', 'http://duckduckgo.com/', '-o', '/tmp/page.html', '--silent']>"
      ]
     },
     "execution_count": 6,
     "metadata": {},
     "output_type": "execute_result"
    }
   ],
   "source": [
    "from cmdy import curl\n",
    "curl(\"http://duckduckgo.com/\", o=\"/tmp/page.html\", silent=True)\n",
    "# curl http://duckduckgo.com/ -o /tmp/page.html --silent"
   ]
  },
  {
   "cell_type": "markdown",
   "metadata": {},
   "source": [
    "### Order keyword arguments"
   ]
  },
  {
   "cell_type": "code",
   "execution_count": 7,
   "metadata": {},
   "outputs": [
    {
     "data": {
      "text/plain": [
       "<CmdyResult: ['curl', 'http://duckduckgo.com/', '-o', '/tmp/page.html', '--silent']>"
      ]
     },
     "execution_count": 7,
     "metadata": {},
     "output_type": "execute_result"
    }
   ],
   "source": [
    "curl(\"http://duckduckgo.com/\", \"-o\", \"/tmp/page.html\", \"--silent\")"
   ]
  },
  {
   "cell_type": "code",
   "execution_count": 8,
   "metadata": {},
   "outputs": [
    {
     "data": {
      "text/plain": [
       "<CmdyResult: ['curl', 'http://duckduckgo.com/', '--silent', '-o', '/tmp/page.html']>"
      ]
     },
     "execution_count": 8,
     "metadata": {},
     "output_type": "execute_result"
    }
   ],
   "source": [
    "# or\n",
    "from diot import OrderedDiot\n",
    "kwargs = OrderedDiot()\n",
    "kwargs.silent = True\n",
    "kwargs.o = '/tmp/page.html'\n",
    "curl(\"http://duckduckgo.com/\", kwargs)\n",
    "# You can also use collections.OrderedDict"
   ]
  },
  {
   "cell_type": "markdown",
   "metadata": {},
   "source": [
    "### Prefix and separator for keyword arguments"
   ]
  },
  {
   "cell_type": "code",
   "execution_count": 9,
   "metadata": {},
   "outputs": [
    {
     "data": {
      "text/plain": [
       "'bedtools intersect -wa -wb -a query.bed -b d1.bed d2.bed d3.bed -names d1 d2 d3 -sorted'"
      ]
     },
     "execution_count": 9,
     "metadata": {},
     "output_type": "execute_result"
    }
   ],
   "source": [
    "from cmdy import bedtools, bcftools\n",
    "\n",
    "bedtools.intersect(\n",
    "    wa=True,\n",
    "    wb=True,\n",
    "    a=\"query.bed\",\n",
    "    b=[\"d1.bed\", \"d2.bed\", \"d3.bed\"],\n",
    "    names=[\"d1\", \"d2\", \"d3\"],\n",
    "    sorted=True,\n",
    "    _prefix=\"-\",\n",
    ").h().strcmd\n"
   ]
  },
  {
   "cell_type": "code",
   "execution_count": 10,
   "metadata": {},
   "outputs": [
    {
     "data": {
      "text/plain": [
       "\"bcftools query -H --format '%CHROM\\t%POS\\t%REF\\t%ALT\\n' a.vcf b.vcf\""
      ]
     },
     "execution_count": 10,
     "metadata": {},
     "output_type": "execute_result"
    }
   ],
   "source": [
    "# default prefix is auto\n",
    "bcftools.query(\n",
    "    _=[\"a.vcf\", \"b.vcf\"], H=True, format=\"%CHROM\\t%POS\\t%REF\\t%ALT\\n\"\n",
    ").h().strcmd\n"
   ]
  },
  {
   "cell_type": "code",
   "execution_count": 11,
   "metadata": {},
   "outputs": [
    {
     "data": {
      "text/plain": [
       "['ls', '-l', '--block-size=KB']"
      ]
     },
     "execution_count": 11,
     "metadata": {},
     "output_type": "execute_result"
    }
   ],
   "source": [
    "ls(l=True, block_size='KB', _sep='auto').h().cmd"
   ]
  },
  {
   "cell_type": "markdown",
   "metadata": {},
   "source": [
    "### Mixed combinations of prefices and separators in one command"
   ]
  },
  {
   "cell_type": "code",
   "execution_count": 12,
   "metadata": {},
   "outputs": [
    {
     "name": "stdout",
     "output_type": "stream",
     "text": [
      "['java', 'jar=picard.jar', 'SortSam', 'I=input.bam', 'O=sorted.bam', 'SORTED_ORDER=coordinate']\n"
     ]
    },
    {
     "data": {
      "text/plain": [
       "['java',\n",
       " '-jar',\n",
       " 'picard.jar',\n",
       " 'SortSam',\n",
       " 'I=input.bam',\n",
       " 'O=sorted.bam',\n",
       " 'SORTED_ORDER=coordinate']"
      ]
     },
     "execution_count": 12,
     "metadata": {},
     "output_type": "execute_result"
    }
   ],
   "source": [
    "from cmdy import java\n",
    "\n",
    "# Note this is just an example for old verion picard.\n",
    "# Picard is changing it's style\n",
    "\n",
    "picard = java(jar=\"picard.jar\", _prefix=\"\", _sep=\"=\", _sub=True)\n",
    "c = picard.SortSam(\n",
    "    I=\"input.bam\",\n",
    "    O=\"sorted.bam\",\n",
    "    SORTED_ORDER=\"coordinate\",\n",
    "    _prefix=\"\",\n",
    "    _sep=\"=\",\n",
    "    _deform=None,\n",
    ").h\n",
    "print(c.cmd)\n",
    "\n",
    "# same as the above\n",
    "java(\n",
    "    {\"jar\": \"picard.jar\", \"_prefix\": \"-\", \"_sep\": \" \"},\n",
    "    \"SortSam\",\n",
    "    I=\"input.bam\",\n",
    "    O=\"sorted.bam\",\n",
    "    SORTED_ORDER=\"coordinate\",\n",
    "    _prefix=\"\",\n",
    "    _sep=\"=\",\n",
    "    _deform=None,\n",
    ").h().cmd\n",
    "\n",
    "# _deform prevents SORTED_ORDER to be deformed to SORTED-ORDER\n"
   ]
  },
  {
   "cell_type": "markdown",
   "metadata": {},
   "source": [
    "### Subcommands"
   ]
  },
  {
   "cell_type": "code",
   "execution_count": 13,
   "metadata": {},
   "outputs": [
    {
     "name": "stdout",
     "output_type": "stream",
     "text": [
      "  dev    88ddd33 0.4.3\n",
      "* master 88ddd33 0.4.3\n"
     ]
    },
    {
     "data": {
      "text/plain": [
       "<CmdyResult: ['git', 'branch', '-v']>"
      ]
     },
     "execution_count": 13,
     "metadata": {},
     "output_type": "execute_result"
    }
   ],
   "source": [
    "from cmdy import git\n",
    "git.branch(v=True).fg"
   ]
  },
  {
   "cell_type": "code",
   "execution_count": 14,
   "metadata": {},
   "outputs": [
    {
     "data": {
      "text/plain": [
       "<CmdyHolding: ['git', '--git-dir', '.', 'branch', '-v']>"
      ]
     },
     "execution_count": 14,
     "metadata": {},
     "output_type": "execute_result"
    }
   ],
   "source": [
    "# What if I have separate arguments for main and sub-command?\n",
    "#import cmdy\n",
    "#cmdy.git(git_dir='.', _sub=True).branch(v=True)\n",
    "git(git_dir='.', _sub=True).branch(v=True).h"
   ]
  },
  {
   "cell_type": "markdown",
   "metadata": {},
   "source": [
    "### Duplicated keys for list arguments:"
   ]
  },
  {
   "cell_type": "code",
   "execution_count": 15,
   "metadata": {},
   "outputs": [
    {
     "name": "stdout",
     "output_type": "stream",
     "text": [
      "\n",
      "[*]\n",
      "end_of_line          = lf\n",
      "indent_size          = 4\n",
      "indent_style         = tab\n",
      "insert_final_newline = true\n",
      "root = true\n",
      "tab_width            = 4\n",
      "\n"
     ]
    }
   ],
   "source": [
    "from cmdy import sort\n",
    "print(sort(k=['1,1', '2,2'], t='_', _='./.editorconfig', _dupkey=True))\n",
    "# sort -k 1,1 -k 2,2 ./.editorconfig"
   ]
  },
  {
   "cell_type": "markdown",
   "metadata": {},
   "source": [
    "## Return code and exception"
   ]
  },
  {
   "cell_type": "code",
   "execution_count": 16,
   "metadata": {},
   "outputs": [
    {
     "name": "stderr",
     "output_type": "stream",
     "text": [
      "Traceback (most recent call last):\n",
      "  File \"/tmp/ipykernel_2668/1064439221.py\", line 2, in <cell line: 2>\n",
      "    x()\n",
      "/path/.../to/cmdy/cmdy.py\", line 70, in __call__\n",
      "    return self._bakeable.CmdyHolding(\n",
      "/path/.../to/cmdy/cmdy.py\", line 164, in __new__\n",
      "    result = holding.run()\n",
      "/path/.../to/cmdy/cmdy_plugins/pipe.py\", line 137, in run\n",
      "    return orig_run(self, wait)\n",
      "/path/.../to/cmdy/cmdy_plugins/fg.py\", line 95, in run\n",
      "    return orig_run(self, wait)\n",
      "/path/.../to/cmdy/cmdy.py\", line 301, in run\n",
      "    ret = self.bakeable.CmdyResult(self._run(), self)\n",
      "/path/.../to/cmdy/cmdy.py\", line 235, in _run\n",
      "    raise CmdyExecNotFoundError(str(fnfe)) from None\n",
      "cmdy.cmdy_exceptions.CmdyExecNotFoundError: [Errno 2] No such file or directory: 'x'\n"
     ]
    }
   ],
   "source": [
    "from cmdy import x\n",
    "x()"
   ]
  },
  {
   "cell_type": "code",
   "execution_count": 17,
   "metadata": {},
   "outputs": [
    {
     "name": "stderr",
     "output_type": "stream",
     "text": [
      "Traceback (most recent call last):\n",
      "  File \"/tmp/ipykernel_2668/2651632925.py\", line 2, in <cell line: 2>\n",
      "    ls('non-existing-file')\n",
      "/path/.../to/cmdy/cmdy.py\", line 70, in __call__\n",
      "    return self._bakeable.CmdyHolding(\n",
      "/path/.../to/cmdy/cmdy.py\", line 167, in __new__\n",
      "    return result.wait()\n",
      "/path/.../to/cmdy/cmdy_result.py\", line 70, in wait\n",
      "    raise CmdyReturnCodeError(self)\n",
      "cmdy.cmdy_exceptions.CmdyReturnCodeError: Unexpected RETURN CODE 2, expecting: [0]\n",
      "\n",
      "  [   PID] 8743\n",
      "\n",
      "  [   CMD] ['ls non-existing-file']\n",
      "\n",
      "  [STDOUT] \n",
      "\n",
      "  [STDERR] ls: cannot access 'non-existing-file': No such file or directory\n",
      "\n"
     ]
    }
   ],
   "source": [
    "from cmdy import ls\n",
    "ls('non-existing-file')"
   ]
  },
  {
   "cell_type": "markdown",
   "metadata": {},
   "source": [
    "### Don't raise exception but store the return code"
   ]
  },
  {
   "cell_type": "code",
   "execution_count": 18,
   "metadata": {},
   "outputs": [
    {
     "data": {
      "text/plain": [
       "2"
      ]
     },
     "execution_count": 18,
     "metadata": {},
     "output_type": "execute_result"
    }
   ],
   "source": [
    "from cmdy import ls\n",
    "result = ls('non-existing-file', _raise=False)\n",
    "result.rc"
   ]
  },
  {
   "cell_type": "markdown",
   "metadata": {},
   "source": [
    "### Tolerance on return code"
   ]
  },
  {
   "cell_type": "code",
   "execution_count": 19,
   "metadata": {},
   "outputs": [
    {
     "data": {
      "text/plain": [
       "2"
      ]
     },
     "execution_count": 19,
     "metadata": {},
     "output_type": "execute_result"
    }
   ],
   "source": [
    "from cmdy import ls\n",
    "ls('non-existing-file', _okcode='0,2').rc # or [0,2]"
   ]
  },
  {
   "cell_type": "markdown",
   "metadata": {},
   "source": [
    "### Timeouts"
   ]
  },
  {
   "cell_type": "code",
   "execution_count": 20,
   "metadata": {},
   "outputs": [
    {
     "name": "stderr",
     "output_type": "stream",
     "text": [
      "Traceback (most recent call last):\n",
      "  File \"/tmp/ipykernel_2668/3954621310.py\", line 2, in <cell line: 2>\n",
      "    sleep(3, _timeout=1)\n",
      "/path/.../to/cmdy/cmdy.py\", line 70, in __call__\n",
      "    return self._bakeable.CmdyHolding(\n",
      "/path/.../to/cmdy/cmdy.py\", line 167, in __new__\n",
      "    return result.wait()\n",
      "/path/.../to/cmdy/cmdy_result.py\", line 65, in wait\n",
      "    raise CmdyTimeoutError(\n",
      "cmdy.cmdy_exceptions.CmdyTimeoutError: Timeout after 1 seconds.\n",
      "Exception in thread Thread-13:\n",
      "Traceback (most recent call last):\n",
      "  File \"/home/pwwang/miniconda3/lib/python3.9/site-packages/curio/workers.py\", line 313, in run_callable\n",
      "    future.set_result(func(*args))\n",
      "  File \"/home/pwwang/miniconda3/lib/python3.9/site-packages/curio/workers.py\", line 233, in set_result\n",
      "    self._callback(self)\n",
      "  File \"/home/pwwang/miniconda3/lib/python3.9/site-packages/curio/kernel.py\", line 452, in <lambda>\n",
      "    future.add_done_callback(lambda fut, task=current: wake(task, fut))\n",
      "  File \"/home/pwwang/miniconda3/lib/python3.9/site-packages/curio/kernel.py\", line 264, in wake\n",
      "    notify_sock.send(b'\\x00')\n",
      "OSError: [Errno 9] Bad file descriptor\n",
      "\n",
      "During handling of the above exception, another exception occurred:\n",
      "\n",
      "Traceback (most recent call last):\n",
      "  File \"/home/pwwang/miniconda3/lib/python3.9/threading.py\", line 954, in _bootstrap_inner\n",
      "    self.run()\n",
      "  File \"/home/pwwang/miniconda3/lib/python3.9/threading.py\", line 892, in run\n",
      "    self._target(*self._args, **self._kwargs)\n",
      "  File \"/home/pwwang/miniconda3/lib/python3.9/site-packages/curio/workers.py\", line 286, in run_worker\n",
      "    self.request()\n",
      "  File \"/home/pwwang/miniconda3/lib/python3.9/site-packages/curio/workers.py\", line 315, in run_callable\n",
      "    future.set_exception(err)\n",
      "  File \"/home/pwwang/miniconda3/lib/python3.9/site-packages/curio/workers.py\", line 237, in set_exception\n",
      "    self._callback(self)\n",
      "  File \"/home/pwwang/miniconda3/lib/python3.9/site-packages/curio/kernel.py\", line 452, in <lambda>\n",
      "    future.add_done_callback(lambda fut, task=current: wake(task, fut))\n",
      "  File \"/home/pwwang/miniconda3/lib/python3.9/site-packages/curio/kernel.py\", line 264, in wake\n",
      "    notify_sock.send(b'\\x00')\n",
      "OSError: [Errno 9] Bad file descriptor\n"
     ]
    }
   ],
   "source": [
    "from cmdy import sleep\n",
    "sleep(3, _timeout=1)"
   ]
  },
  {
   "cell_type": "markdown",
   "metadata": {},
   "source": [
    "## Redirections"
   ]
  },
  {
   "cell_type": "code",
   "execution_count": 21,
   "metadata": {},
   "outputs": [
    {
     "name": "stdout",
     "output_type": "stream",
     "text": [
      "\n",
      "[report]\n",
      "exclude_lines =\n",
      "    if TYPE_CHECKING:\n",
      "    pragma: no cover\n",
      "\n"
     ]
    }
   ],
   "source": [
    "from cmdy import cat\n",
    "cat('./.coveragerc').redirect > '/tmp/.coveragerc'\n",
    "print(cat('/tmp/.coveragerc'))"
   ]
  },
  {
   "cell_type": "markdown",
   "metadata": {},
   "source": [
    "### Appending"
   ]
  },
  {
   "cell_type": "code",
   "execution_count": 22,
   "metadata": {},
   "outputs": [
    {
     "name": "stdout",
     "output_type": "stream",
     "text": [
      "\n",
      "[report]\n",
      "exclude_lines =\n",
      "    if TYPE_CHECKING:\n",
      "    pragma: no cover\n",
      "\n",
      "[report]\n",
      "exclude_lines =\n",
      "    if TYPE_CHECKING:\n",
      "    pragma: no cover\n",
      "\n"
     ]
    }
   ],
   "source": [
    "# r short for redirect\n",
    "cat('./.coveragerc').r >> '/tmp/.coveragerc'\n",
    "print(cat('/tmp/.coveragerc'))"
   ]
  },
  {
   "cell_type": "markdown",
   "metadata": {},
   "source": [
    "### Redirecting to a file handler"
   ]
  },
  {
   "cell_type": "code",
   "execution_count": 23,
   "metadata": {},
   "outputs": [
    {
     "name": "stdout",
     "output_type": "stream",
     "text": [
      "\n",
      "[report]\n",
      "exclude_lines =\n",
      "    if TYPE_CHECKING:\n",
      "    pragma: no cover\n",
      "\n"
     ]
    }
   ],
   "source": [
    "f = open('/tmp/.coveragerc', 'w')\n",
    "# executing fails to detect future action in with block with ipython\n",
    "# but feel free to write with block in regular python\n",
    "cat('./.coveragerc').r > f\n",
    "f.close()\n",
    "print(cat('/tmp/.coveragerc'))"
   ]
  },
  {
   "cell_type": "markdown",
   "metadata": {},
   "source": [
    "### STDIN, STDOUT and/or STDERR redirections"
   ]
  },
  {
   "cell_type": "code",
   "execution_count": 24,
   "metadata": {},
   "outputs": [
    {
     "name": "stdout",
     "output_type": "stream",
     "text": [
      "\n",
      "[report]\n",
      "exclude_lines =\n",
      "    if TYPE_CHECKING:\n",
      "    pragma: no cover\n",
      "\n"
     ]
    }
   ],
   "source": [
    "from cmdy import STDIN, STDOUT, STDERR, DEVNULL\n",
    "\n",
    "c = cat().r(STDIN) < '/tmp/.coveragerc'\n",
    "print(c)"
   ]
  },
  {
   "cell_type": "code",
   "execution_count": 25,
   "metadata": {},
   "outputs": [
    {
     "name": "stdout",
     "output_type": "stream",
     "text": [
      "None\n",
      "None\n"
     ]
    }
   ],
   "source": [
    "# Mixed\n",
    "c = cat().r(STDIN, STDOUT) ^ '/tmp/.coveragerc' > DEVNULL\n",
    "# we can't fetch result from a redirected pipe\n",
    "print(c.stdout)\n",
    "\n",
    "# Why not '<' for STDIN?\n",
    "# Because the priority of the operator is not in sequential order.\n",
    "# We can use < for STDIN, but we need to ensure it runs first\n",
    "c = (cat().r(STDIN, STDOUT) < '/tmp/.coveragerc') > DEVNULL\n",
    "print(c.stdout)\n",
    "\n",
    "# A simple rule for multiple redirections to always use \">\" in the last place"
   ]
  },
  {
   "cell_type": "code",
   "execution_count": 26,
   "metadata": {},
   "outputs": [
    {
     "name": "stdout",
     "output_type": "stream",
     "text": [
      "\n",
      "[report]\n",
      "exclude_lines =\n",
      "    if TYPE_CHECKING:\n",
      "    pragma: no cover\n",
      "\n"
     ]
    }
   ],
   "source": [
    "# Redirect stderr to stdout\n",
    "from cmdy import bash\n",
    "c = bash(c=\"cat 1>&2\").r(STDIN, STDERR) ^ '/tmp/.coveragerc' > STDOUT\n",
    "print(c.stdout)"
   ]
  },
  {
   "cell_type": "code",
   "execution_count": 27,
   "metadata": {},
   "outputs": [
    {
     "name": "stdout",
     "output_type": "stream",
     "text": [
      "None\n",
      "None\n"
     ]
    }
   ],
   "source": [
    "# All at the same time\n",
    "c = bash(c=\"cat 1>&2\").r(STDIN, STDOUT, STDERR) ^ '/tmp/.coveragerc' ^ DEVNULL > STDOUT\n",
    "print(c.stdout)\n",
    "print(c.stderr)"
   ]
  },
  {
   "cell_type": "markdown",
   "metadata": {},
   "source": [
    "## Pipings"
   ]
  },
  {
   "cell_type": "code",
   "execution_count": 28,
   "metadata": {},
   "outputs": [
    {
     "name": "stdout",
     "output_type": "stream",
     "text": [
      "README.md\n",
      "\n"
     ]
    }
   ],
   "source": [
    "from cmdy import grep\n",
    "c = ls().p | grep('README')\n",
    "print(c)"
   ]
  },
  {
   "cell_type": "code",
   "execution_count": 29,
   "metadata": {},
   "outputs": [
    {
     "name": "stdout",
     "output_type": "stream",
     "text": [
      "README.md\n",
      "\n",
      "['ls', 'grep README', 'grep md']\n"
     ]
    }
   ],
   "source": [
    "# p short for pipe\n",
    "c = ls().p | grep('README').p | grep('md')\n",
    "print(c)\n",
    "print(c.piped_strcmds)"
   ]
  },
  {
   "cell_type": "code",
   "execution_count": 30,
   "metadata": {},
   "outputs": [
    {
     "name": "stdout",
     "output_type": "stream",
     "text": [
      "LICENSE\n",
      "README.md\n",
      "cmdy\n",
      "cmdy.egg-info\n",
      "demo.ipynb\n",
      "dist\n",
      "echo.py\n",
      "pyproject.toml\n",
      "setup.py\n",
      "tests\n",
      "\n"
     ]
    }
   ],
   "source": [
    "import cmdy\n",
    "# !!! Pipings should be consumed immediately!\n",
    "# !!! DO NOT do this\n",
    "ls().p\n",
    "ls() # <- Will not run as expected\n",
    "# All commands will be locked as holding until pipings are consumed\n",
    "cmdy._event.clear()\n",
    "print(ls())\n",
    "\n",
    "# See Advanced/Holdings if you want to hold a piping command for a while"
   ]
  },
  {
   "cell_type": "markdown",
   "metadata": {},
   "source": [
    "## Running command in foreground"
   ]
  },
  {
   "cell_type": "code",
   "execution_count": 31,
   "metadata": {},
   "outputs": [
    {
     "name": "stdout",
     "output_type": "stream",
     "text": [
      "LICENSE\n",
      "README.md\n",
      "cmdy\n",
      "cmdy.egg-info\n",
      "demo.ipynb\n",
      "dist\n",
      "echo.py\n",
      "pyproject.toml\n",
      "setup.py\n",
      "tests\n"
     ]
    },
    {
     "data": {
      "text/plain": [
       "<CmdyResult: ['ls']>"
      ]
     },
     "execution_count": 31,
     "metadata": {},
     "output_type": "execute_result"
    }
   ],
   "source": [
    "ls().fg"
   ]
  },
  {
   "cell_type": "code",
   "execution_count": 32,
   "metadata": {},
   "outputs": [
    {
     "name": "stdout",
     "output_type": "stream",
     "text": [
      "\n",
      "[report]\n",
      "exclude_lines =\n",
      "    if TYPE_CHECKING:\n",
      "    pragma: no cover\n"
     ]
    },
    {
     "name": "stderr",
     "output_type": "stream",
     "text": [
      "Traceback (most recent call last):\n",
      "  File \"/tmp/ipykernel_2668/1908819683.py\", line 2, in <cell line: 2>\n",
      "    tail('/tmp/.coveragerc', f=True, _timeout=3).fg\n",
      "/path/.../to/cmdy/cmdy_utils.py\", line 106, in wrapper\n",
      "    return func(self)\n",
      "/path/.../to/cmdy/cmdy_plugin.py\", line 226, in wrapper\n",
      "    return func(self, *args, **kwargs)\n",
      "/path/.../to/cmdy/cmdy_plugins/fg.py\", line 86, in foreground\n",
      "    return self.run()\n",
      "/path/.../to/cmdy/cmdy_plugins/pipe.py\", line 137, in run\n",
      "    return orig_run(self, wait)\n",
      "/path/.../to/cmdy/cmdy_plugins/fg.py\", line 115, in run\n",
      "    curio.run(\n",
      "/path/.../to/miniconda3/lib/python3.9/site-packages/curio/kernel.py\", line 822, in run\n",
      "    return kernel.run(corofunc, *args)\n",
      "/path/.../to/miniconda3/lib/python3.9/site-packages/curio/kernel.py\", line 172, in run\n",
      "    raise ret_exc\n",
      "/path/.../to/miniconda3/lib/python3.9/site-packages/curio/kernel.py\", line 736, in kernel_run\n",
      "    trap = current.send(current._trap_result)\n",
      "/path/.../to/miniconda3/lib/python3.9/site-packages/curio/task.py\", line 167, in send\n",
      "    return self._send(value)\n",
      "/path/.../to/miniconda3/lib/python3.9/site-packages/curio/task.py\", line 171, in _task_runner\n",
      "    return await coro\n",
      "/path/.../to/cmdy/cmdy_plugins/fg.py\", line 70, in _timeout_wrapper\n",
      "    raise CmdyTimeoutError(\n",
      "cmdy.cmdy_exceptions.CmdyTimeoutError: Timeout after 3 seconds.\n"
     ]
    }
   ],
   "source": [
    "from cmdy import tail\n",
    "tail('/tmp/.coveragerc', f=True, _timeout=3).fg\n",
    "# This mimics the `tail -f` program\n",
    "# You will see the content comes out one after another\n",
    "# and then program hangs\n"
   ]
  },
  {
   "cell_type": "code",
   "execution_count": 33,
   "metadata": {},
   "outputs": [],
   "source": [
    "# You can also write an `echo-like` program easily\n",
    "# \n",
    "# This will not run here\n",
    "# !!! NOT RUN\n",
    "# Save it to a file and run with python interpreter\n",
    "# See echo.py\n",
    "\n",
    "# from cmdy import cat\n",
    "# cat().fg(stdin=True)"
   ]
  },
  {
   "cell_type": "markdown",
   "metadata": {},
   "source": [
    "## Iterating on output"
   ]
  },
  {
   "cell_type": "code",
   "execution_count": 34,
   "metadata": {},
   "outputs": [
    {
     "name": "stdout",
     "output_type": "stream",
     "text": [
      "LICENSE\n",
      "README.md\n",
      "cmdy\n",
      "cmdy.egg-info\n",
      "demo.ipynb\n",
      "dist\n",
      "echo.py\n",
      "pyproject.toml\n",
      "setup.py\n",
      "tests\n"
     ]
    }
   ],
   "source": [
    "for line in ls().iter():\n",
    "    print(line, end='')"
   ]
  },
  {
   "cell_type": "markdown",
   "metadata": {},
   "source": [
    "### Iterating on stderr"
   ]
  },
  {
   "cell_type": "code",
   "execution_count": 35,
   "metadata": {},
   "outputs": [
    {
     "name": "stdout",
     "output_type": "stream",
     "text": [
      "\n",
      "[report]\n",
      "exclude_lines =\n",
      "    if TYPE_CHECKING:\n",
      "    pragma: no cover\n"
     ]
    }
   ],
   "source": [
    "for line in bash(c=\"cat /tmp/.coveragerc 1>&2\").iter(STDERR):\n",
    "    print(line, end='')"
   ]
  },
  {
   "cell_type": "markdown",
   "metadata": {},
   "source": [
    "### Getting live output"
   ]
  },
  {
   "cell_type": "code",
   "execution_count": 36,
   "metadata": {},
   "outputs": [
    {
     "name": "stdout",
     "output_type": "stream",
     "text": [
      "We got: 0\n",
      "We got: 1\n",
      "We got: 2\n",
      "We got: 3\n",
      "We got: 4\n",
      "We got: 5\n",
      "We got: 6\n",
      "We got: 7\n",
      "We got: 8\n"
     ]
    }
   ],
   "source": [
    "# Like we did for `tail -f` program\n",
    "# This time, we can do something with each output line\n",
    "\n",
    "# Let's use a thread to write content to a file\n",
    "# And we try to get the live contents using cmdy\n",
    "import time\n",
    "from threading import Thread\n",
    "def live_write(file, n):\n",
    "    \n",
    "    with open(file, 'w', buffering=1) as f:\n",
    "        # Let's write something every half second\n",
    "        for i in range(n):\n",
    "            f.write(str(i) + '\\n')\n",
    "            time.sleep(.5)\n",
    "            \n",
    "test_file = '/tmp/tail-f.txt'\n",
    "Thread(target=live_write, args=(test_file, 10)).start()\n",
    "\n",
    "from cmdy import tail\n",
    "\n",
    "tail_iter = tail(f=True, _=test_file).iter()\n",
    "\n",
    "for line in tail_iter:\n",
    "    # Do whatever you want with the line\n",
    "    print('We got:', line, end='')\n",
    "    if line.strip() == '8':\n",
    "        break\n",
    "        \n",
    "# make sure thread ends\n",
    "time.sleep(2)"
   ]
  },
  {
   "cell_type": "code",
   "execution_count": 37,
   "metadata": {},
   "outputs": [
    {
     "name": "stdout",
     "output_type": "stream",
     "text": [
      "We got: 0\n",
      "We got: 1\n",
      "We got: 2\n",
      "We got: 3\n",
      "We got: 4\n",
      "We got: 5\n",
      "We got: 6\n",
      "We got: 7\n",
      "We got: 8\n",
      "We got: 9\n"
     ]
    }
   ],
   "source": [
    "# What about timeout?\n",
    "\n",
    "# Of course you can use a timer to check inside the loop\n",
    "# You can also set a timeout for each fetch\n",
    "\n",
    "# Terminate after 10 queries\n",
    "\n",
    "Thread(target=live_write, args=(test_file, 10)).start()\n",
    "\n",
    "from cmdy import tail\n",
    "\n",
    "tail_iter = tail(f=True, _=test_file).iter()\n",
    "\n",
    "for i in range(10):\n",
    "    print('We got:', tail_iter.next(timeout=1), end='')\n",
    "    "
   ]
  },
  {
   "cell_type": "markdown",
   "metadata": {},
   "source": [
    "## Advanced"
   ]
  },
  {
   "cell_type": "markdown",
   "metadata": {},
   "source": [
    "### Baking `Cmdy` object\n",
    "\n",
    "Sometimes, you may want to run the same program a couple of times, with the same set of arguments or configurations, and you don't want to type those arguments every time, then you can bake the `Cmdy` object with that same arguments or configurations.\n",
    "\n",
    "For example, if you want to run `ls` as `ls -l` all the time:"
   ]
  },
  {
   "cell_type": "code",
   "execution_count": 38,
   "metadata": {},
   "outputs": [
    {
     "name": "stdout",
     "output_type": "stream",
     "text": [
      "['ls', '-l']\n",
      "['ls', '-l', '-a']\n",
      "['ls']\n",
      "['ls', '-l', '-a']\n"
     ]
    }
   ],
   "source": [
    "from cmdy import ls\n",
    "ll = ls._(l=True)\n",
    "print(ll().h.cmd)\n",
    "print(ll(a=True).h.cmd)\n",
    "# I don't want the l flag for some commands occasionally\n",
    "print(ll(l=False).h.cmd)\n",
    "\n",
    "# Bake a baked command\n",
    "lla = ll._(a=True)\n",
    "print(lla().h.cmd)"
   ]
  },
  {
   "cell_type": "code",
   "execution_count": 39,
   "metadata": {},
   "outputs": [
    {
     "name": "stdout",
     "output_type": "stream",
     "text": [
      "<CmdyHolding: ['git', '--git-dir', '.', 'branch', '-v']>\n",
      "<CmdyHolding: ['git', 'status']>\n"
     ]
    }
   ],
   "source": [
    "# I know git is always gonna run with subcommand\n",
    "git = git._(_sub=True)\n",
    "print(git(git_dir='.').branch(v=True).h)\n",
    "print(git().status().h)"
   ]
  },
  {
   "cell_type": "code",
   "execution_count": 40,
   "metadata": {},
   "outputs": [
    {
     "name": "stdout",
     "output_type": "stream",
     "text": [
      "['git', 'branch']\n",
      "<class 'cmdy.cmdy.Cmdy'>\n",
      "['git', '_']\n"
     ]
    }
   ],
   "source": [
    "# What if I have a subcommand call 'bake'?\n",
    "from cmdy import git, CmdyActionError\n",
    "\n",
    "print(git.branch().h.cmd)\n",
    "print(type(git._()))\n",
    "\n",
    "# run the git with _sub\n",
    "print(git(_sub=True)._().h.cmd)"
   ]
  },
  {
   "cell_type": "markdown",
   "metadata": {},
   "source": [
    "### Baking the whole module"
   ]
  },
  {
   "cell_type": "code",
   "execution_count": 41,
   "metadata": {},
   "outputs": [
    {
     "name": "stdout",
     "output_type": "stream",
     "text": [
      "<CmdyHolding: ['git', '--version']>\n",
      "<CmdyHolding: ['gcc', '--version']>\n"
     ]
    }
   ],
   "source": [
    "import cmdy\n",
    "sh = cmdy(version=True)\n",
    "# anything under sh directly will be supposed to have subcommand\n",
    "\n",
    "print(sh.git().h)\n",
    "print(sh.gcc().h)"
   ]
  },
  {
   "cell_type": "markdown",
   "metadata": {},
   "source": [
    "Note that module baking is deep copying, except the exception classes and some utils.\n",
    "This means, you would expect following behavior:"
   ]
  },
  {
   "cell_type": "code",
   "execution_count": 42,
   "metadata": {},
   "outputs": [
    {
     "name": "stdout",
     "output_type": "stream",
     "text": [
      "<class 'cmdy.CmdyHolding'>\n",
      "False\n",
      "True\n",
      "Catched!\n"
     ]
    }
   ],
   "source": [
    "import cmdy\n",
    "from cmdy import CmdyHolding, CmdyExecNotFoundError\n",
    "\n",
    "sh = cmdy()\n",
    "\n",
    "c = sh.echo().h\n",
    "print(type(c))\n",
    "print(isinstance(c, CmdyHolding)) # False\n",
    "print(isinstance(c, sh.CmdyHolding)) # True\n",
    "\n",
    "try:\n",
    "    sh.notexisting()\n",
    "except CmdyExecNotFoundError:\n",
    "    # we can catch it, as CmdyExecNotFoundError is sh.CmdyExecNotFoundError\n",
    "    print('Catched!')\n"
   ]
  },
  {
   "cell_type": "markdown",
   "metadata": {},
   "source": [
    "### Holding objects\n",
    "\n",
    "You may have noticed that we have a couple of examples above with a final call `.h` or `.h()`, which is holding the command from running.\n",
    "\n",
    "You can do that, too, if you have multiple operations"
   ]
  },
  {
   "cell_type": "code",
   "execution_count": 43,
   "metadata": {},
   "outputs": [
    {
     "name": "stdout",
     "output_type": "stream",
     "text": [
      "<CmdyHolding: ['ls']>\n"
     ]
    },
    {
     "name": "stderr",
     "output_type": "stream",
     "text": [
      "Traceback (most recent call last):\n",
      "  File \"/tmp/ipykernel_2668/2306508900.py\", line 4, in <cell line: 4>\n",
      "    ls().r.h\n",
      "/path/.../to/cmdy/cmdy_utils.py\", line 106, in wrapper\n",
      "    return func(self)\n",
      "/path/.../to/cmdy/cmdy.py\", line 289, in hold\n",
      "    raise CmdyActionError(\n",
      "cmdy.cmdy_exceptions.CmdyActionError: Should be called in the first place: .h() or .hold()\n"
     ]
    }
   ],
   "source": [
    "print(ls().h)\n",
    "\n",
    "# however, you cannot hold after some actions\n",
    "ls().r.h"
   ]
  },
  {
   "cell_type": "code",
   "execution_count": 44,
   "metadata": {},
   "outputs": [
    {
     "name": "stdout",
     "output_type": "stream",
     "text": [
      "Time elapsed: 0.054 s\n",
      "Time elapsed: 0.089 s\n",
      "Time elapsed: 2.111 s\n"
     ]
    }
   ],
   "source": [
    "# Once a command is on hold (by .h, .hold, .h() or .hold())\n",
    "# You have to explictly call run() to set the command running\n",
    "from time import time\n",
    "tic = time()\n",
    "c = sleep(2).h\n",
    "print(f'Time elapsed: {time() - tic:.3f} s')\n",
    "# not running even with fg\n",
    "c.fg\n",
    "print(f'Time elapsed: {time() - tic:.3f} s')\n",
    "c.run()\n",
    "print(f'Time elapsed: {time() - tic:.3f} s')"
   ]
  },
  {
   "cell_type": "markdown",
   "metadata": {},
   "source": [
    "### Reuse of command"
   ]
  },
  {
   "cell_type": "code",
   "execution_count": 45,
   "metadata": {},
   "outputs": [
    {
     "name": "stdout",
     "output_type": "stream",
     "text": [
      "LICENSE\n",
      "README.md\n",
      "cmdy\n",
      "cmdy.egg-info\n",
      "demo.ipynb\n",
      "dist\n",
      "echo.py\n",
      "pyproject.toml\n",
      "setup.py\n",
      "tests\n"
     ]
    },
    {
     "data": {
      "text/plain": [
       "<CmdyResult: ['ls']>"
      ]
     },
     "execution_count": 45,
     "metadata": {},
     "output_type": "execute_result"
    }
   ],
   "source": [
    "# After you set a command running,\n",
    "# you can retrieve the holding object,\n",
    "# and reuse it\n",
    "from cmdy import ls\n",
    "c = ls().fg\n",
    "# nothing will be produced\n",
    "c.holding.reset().r > DEVNULL"
   ]
  },
  {
   "cell_type": "markdown",
   "metadata": {},
   "source": [
    "### Async mode"
   ]
  },
  {
   "cell_type": "code",
   "execution_count": 46,
   "metadata": {},
   "outputs": [
    {
     "name": "stdout",
     "output_type": "stream",
     "text": [
      "LICENSE\n",
      "README.md\n",
      "cmdy\n",
      "cmdy.egg-info\n",
      "demo.ipynb\n",
      "dist\n",
      "echo.py\n",
      "pyproject.toml\n",
      "setup.py\n",
      "tests\n"
     ]
    }
   ],
   "source": [
    "import curio\n",
    "from cmdy import ls\n",
    "a = ls().a # async command is never blocking!\n",
    "\n",
    "async def main():\n",
    "    async for line in a:\n",
    "        print(line, end='')\n",
    "\n",
    "curio.run(main())"
   ]
  },
  {
   "cell_type": "markdown",
   "metadata": {},
   "source": [
    "### Extending `cmdy`\n",
    "\n",
    "All those actions for holding/result objects were implemented internally as plugins. You can right your own plugins, too.\n",
    "\n",
    "A plugin has to be defined as a class and then instantiated. \n",
    "\n",
    "**There are 5 APIs for developing a plugin for `cmdy`**\n",
    "\n",
    "- `cmdy._plugin_factory.register`: A decorator for the plugin class\n",
    "- `cmdy._plugin_factory.hold_then`: A decorator to decorate methods in the plugin class, which define actions after a holding object. Arguments:\n",
    "  - `alias`: The alias of this action (e.g. `r/redir` for `redirect`)\n",
    "  - `final`: Whether this is a final action, meaning no other actions should be followed\n",
    "  - `prop`: Whether this action can be called as a property\n",
    "  - `hold_right`: Should I put right following action on hold? This is useful when we have connectors which then can set the command running. (e.g `>` for redirect and `|` for pipe)\n",
    "- `cmdy._plugin_factory.run_then`: A decorator to decorate methods in the plugin class, which define actions after a sync result object. Arguments are similar as `cmdy._plugin_factory.hold_then` except that `prop` and `hold_right` are not avaialbe.\n",
    "- `async_run_then.add_method`: A decorator to decorate methods in the plugin class, which add methods to the `CmdyHolding`, `CmdyResult` or `CmdyAsyncResult` class. `cls` is the only argument that specifies which class we are hacking.\n",
    "- `async_run_then.add_property`: Property version of `cmdy_plugin_add_method`\n",
    "\n",
    "**Notes on name conflicts:**\n",
    "\n",
    "If we need to add the methods to multiple classes in the plugin with the same name, you can define a different name with extra underscore suffix(es).\n",
    "\n",
    "**Notes on module baking:**\n",
    "\n",
    "- Always use the baked module to get those classes\n",
    "    ```pytho\n",
    "    import cmdy\n",
    "    cmdy2 = cmdy()\n",
    "\n",
    "    @cmdy2._plugin_factory.register\n",
    "    class MyPlugin:\n",
    "        ...\n",
    "    ```\n",
    "- Plugin enable and disable only take effect within the same module. For example:\n",
    "\n",
    "    ```python\n",
    "    import cmdy\n",
    "    sh = cmdy()\n",
    "    # only affects cmdy not sh\n",
    "    sh._plugins.fg.disable() \n",
    "    # to disable this plugin for sh as well:\n",
    "    sh._plugins.fg.disable()\n",
    "    ```\n"
   ]
  },
  {
   "cell_type": "code",
   "execution_count": 47,
   "metadata": {},
   "outputs": [
    {
     "name": "stdout",
     "output_type": "stream",
     "text": [
      "Hello world!\n",
      "Hello world!\n",
      "Hello world!\n"
     ]
    },
    {
     "data": {
      "text/plain": [
       "<CmdyHolding: ['ls']>"
      ]
     },
     "execution_count": 47,
     "metadata": {},
     "output_type": "execute_result"
    }
   ],
   "source": [
    "# An example to define a plugin\n",
    "import cmdy\n",
    "\n",
    "@cmdy._plugin_factory.register\n",
    "class MyPlugin:\n",
    "    @cmdy._plugin_factory.add_method(cmdy.CmdyHolding)\n",
    "    def say_hello(self):\n",
    "        return 'Hello world!'\n",
    "\n",
    "    @cmdy._plugin_factory.hold_then('hello')\n",
    "    def helloworld(self):\n",
    "        print(self.say_hello())\n",
    "        # keep chaining\n",
    "        return self\n",
    "\n",
    "myplugin = MyPlugin()\n",
    "\n",
    "# command will never run, \n",
    "# because we didn't do self.run() in helloworld(self)\n",
    "ls().helloworld() \n",
    "# property calls enabled by default\n",
    "ls().helloworld\n",
    "# we have alias\n",
    "ls().hello\n"
   ]
  }
 ],
 "metadata": {
  "kernelspec": {
   "display_name": "Python 3",
   "language": "python",
   "name": "python3"
  },
  "language_info": {
   "codemirror_mode": {
    "name": "ipython",
    "version": 3
   },
   "file_extension": ".py",
   "mimetype": "text/x-python",
   "name": "python",
   "nbconvert_exporter": "python",
   "pygments_lexer": "ipython3",
   "version": "3.9.5"
  }
 },
 "nbformat": 4,
 "nbformat_minor": 4
}
