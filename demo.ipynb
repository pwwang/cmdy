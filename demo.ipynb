{
 "cells": [
  {
   "cell_type": "code",
   "execution_count": 1,
   "metadata": {},
   "outputs": [],
   "source": [
    "import sys\n",
    "import re\n",
    "import traceback\n",
    "import IPython\n",
    "\n",
    "# replace the trackback handler to hide paths on server\n",
    "def exception_hook(*args, **kwargs):\n",
    "    lines = traceback.format_exception(*sys.exc_info())\n",
    "    lines = [lines[0]] + lines[2:]\n",
    "    lines = [re.sub(r'^.+(/cmdy/.+\\.py)', r'/path/.../to\\1', line) for line in lines]\n",
    "    lines = [re.sub(r'^.+(/miniconda3/.+\\.py)', r'/path/.../to\\1', line) for line in lines]\n",
    "    sys.stderr.write(''.join(lines))\n",
    "    \n",
    "IPython.core.interactiveshell.InteractiveShell.showtraceback = exception_hook"
   ]
  },
  {
   "cell_type": "markdown",
   "metadata": {},
   "source": [
    "# Usage\n",
    "\n",
    "To run this demo, please clone the whole repository."
   ]
  },
  {
   "cell_type": "markdown",
   "metadata": {},
   "source": [
    "## Basic usage"
   ]
  },
  {
   "cell_type": "code",
   "execution_count": 2,
   "metadata": {},
   "outputs": [],
   "source": [
    "from cmdy import ls"
   ]
  },
  {
   "cell_type": "code",
   "execution_count": 3,
   "metadata": {},
   "outputs": [
    {
     "output_type": "stream",
     "name": "stdout",
     "text": "LICENSE\nREADME.md\nREADME.rst\ncmdy\ndemo.ipynb\necho.py\npyproject.toml\npytest.ini\nrequirements.txt\nsetup.py\ntests\n\n"
    }
   ],
   "source": [
    "print(ls())"
   ]
  },
  {
   "cell_type": "code",
   "execution_count": 4,
   "metadata": {},
   "outputs": [
    {
     "output_type": "stream",
     "name": "stdout",
     "text": "Got: LICENSE\nGot: README.md\nGot: README.rst\nGot: cmdy\nGot: demo.ipynb\nGot: echo.py\nGot: pyproject.toml\nGot: pytest.ini\nGot: requirements.txt\nGot: setup.py\nGot: tests\n"
    }
   ],
   "source": [
    "for line in ls().iter():\n",
    "    print('Got:', line, end='')"
   ]
  },
  {
   "cell_type": "markdown",
   "metadata": {},
   "source": [
    "## With non-keyword arguments"
   ]
  },
  {
   "cell_type": "code",
   "execution_count": 5,
   "metadata": {},
   "outputs": [
    {
     "output_type": "stream",
     "name": "stdout",
     "text": "./cmdy/\n./cmdy/__init__.py\n./cmdy/cmdy_plugin.py\n./cmdy/cmdy_util.py\n./cmdy/__pycache__/\n./cmdy/__pycache__/__init__.cpython-37.pyc\n./cmdy/__pycache__/cmdy_plugin.cpython-37.pyc\n./cmdy/__pycache__/cmdy_util.cpython-37.pyc\n\n"
    }
   ],
   "source": [
    "from cmdy import tar\n",
    "print(tar(\"cvf\", \"/tmp/test.tar\", \"./cmdy\"))"
   ]
  },
  {
   "cell_type": "markdown",
   "metadata": {},
   "source": [
    "## With keyword arguments"
   ]
  },
  {
   "cell_type": "code",
   "execution_count": 6,
   "metadata": {},
   "outputs": [
    {
     "output_type": "execute_result",
     "data": {
      "text/plain": "<CmdyResult: ['curl', 'http://duckduckgo.com/', '-o', '/tmp/page.html', '--silent']>"
     },
     "metadata": {},
     "execution_count": 6
    }
   ],
   "source": [
    "from cmdy import curl\n",
    "curl(\"http://duckduckgo.com/\", o=\"/tmp/page.html\", silent=True)\n",
    "# curl http://duckduckgo.com/ -o /tmp/page.html --silent"
   ]
  },
  {
   "cell_type": "markdown",
   "metadata": {},
   "source": [
    "### Order keyword arguments"
   ]
  },
  {
   "cell_type": "code",
   "execution_count": 7,
   "metadata": {},
   "outputs": [
    {
     "output_type": "execute_result",
     "data": {
      "text/plain": "<CmdyResult: ['curl', 'http://duckduckgo.com/', '-o', '/tmp/page.html', '--silent']>"
     },
     "metadata": {},
     "execution_count": 7
    }
   ],
   "source": [
    "curl(\"http://duckduckgo.com/\", \"-o\", \"/tmp/page.html\", \"--silent\")"
   ]
  },
  {
   "cell_type": "code",
   "execution_count": 8,
   "metadata": {},
   "outputs": [
    {
     "output_type": "execute_result",
     "data": {
      "text/plain": "<CmdyResult: ['curl', 'http://duckduckgo.com/', '--silent', '-o', '/tmp/page.html']>"
     },
     "metadata": {},
     "execution_count": 8
    }
   ],
   "source": [
    "# or\n",
    "from diot import OrderedDiot\n",
    "kwargs = OrderedDiot()\n",
    "kwargs.silent = True\n",
    "kwargs.o = '/tmp/page.html'\n",
    "curl(\"http://duckduckgo.com/\", kwargs)\n",
    "# You can also use collections.OrderedDict"
   ]
  },
  {
   "cell_type": "markdown",
   "metadata": {},
   "source": [
    "### Prefix and separator for keyword arguments"
   ]
  },
  {
   "cell_type": "code",
   "execution_count": 9,
   "metadata": {},
   "outputs": [
    {
     "output_type": "execute_result",
     "data": {
      "text/plain": "'bedtools intersect -wa -wb -a query.bed -b d1.bed d2.bed d3.bed -names d1 d2 d3 -sorted'"
     },
     "metadata": {},
     "execution_count": 9
    }
   ],
   "source": [
    "from cmdy import bedtools, bcftools\n",
    "bedtools.intersect(wa=True, wb=True, \n",
    "                   a='query.bed', b=['d1.bed', 'd2.bed', 'd3.bed'], \n",
    "                   names=['d1', 'd2', 'd3'], sorted=True, \n",
    "                   _prefix='-').h().strcmd\n"
   ]
  },
  {
   "cell_type": "code",
   "execution_count": 10,
   "metadata": {},
   "outputs": [
    {
     "output_type": "execute_result",
     "data": {
      "text/plain": "\"bcftools query -H --format '%CHROM\\t%POS\\t%REF\\t%ALT\\n' a.vcf b.vcf\""
     },
     "metadata": {},
     "execution_count": 10
    }
   ],
   "source": [
    "# default prefix is auto\n",
    "bcftools.query(_=['a.vcf', 'b.vcf'], H=True, \n",
    "               format='%CHROM\\t%POS\\t%REF\\t%ALT\\n').h().strcmd"
   ]
  },
  {
   "cell_type": "code",
   "execution_count": 11,
   "metadata": {},
   "outputs": [
    {
     "output_type": "execute_result",
     "data": {
      "text/plain": "['ls', '-l', '--block-size=KB']"
     },
     "metadata": {},
     "execution_count": 11
    }
   ],
   "source": [
    "ls(l=True, block_size='KB', _sep='auto').h().cmd"
   ]
  },
  {
   "cell_type": "markdown",
   "metadata": {},
   "source": [
    "### Mixed combinations of prefices and separators in one command"
   ]
  },
  {
   "cell_type": "code",
   "execution_count": 12,
   "metadata": {},
   "outputs": [
    {
     "output_type": "stream",
     "name": "stdout",
     "text": "['java', 'jar=picard.jar', 'SortSam', 'I=input.bam', 'O=sorted.bam', 'SORTED_ORDER=coordinate']\n"
    },
    {
     "output_type": "execute_result",
     "data": {
      "text/plain": "['java',\n 'jar=picard.jar',\n 'SortSam',\n 'I=input.bam',\n 'O=sorted.bam',\n 'SORTED_ORDER=coordinate']"
     },
     "metadata": {},
     "execution_count": 12
    }
   ],
   "source": [
    "from cmdy import java\n",
    "# Note this is just an example for old verion picard. \n",
    "# Picard is changing it's style\n",
    "\n",
    "picard = java(jar='picard.jar', _prefix='', _sep='=', _sub=True)\n",
    "c = picard.SortSam(I='input.bam', O='sorted.bam', \n",
    "               SORTED_ORDER='coordinate',\n",
    "               _prefix='', _sep='=', _deform=None).h\n",
    "print(c.cmd)\n",
    "\n",
    "# same as the above\n",
    "java({'jar': 'picard.jar', '_prefix': '-', '_sep': ' '}, \n",
    "     'SortSam', I='input.bam', O='sorted.bam', \n",
    "     SORTED_ORDER='coordinate', _prefix='', _sep='=', _deform=None).h().cmd\n",
    "\n",
    "# _deform prevents SORTED_ORDER to be deformed to SORTED-ORDER"
   ]
  },
  {
   "source": [
    "### Subcommands"
   ],
   "cell_type": "markdown",
   "metadata": {}
  },
  {
   "cell_type": "code",
   "execution_count": 13,
   "metadata": {},
   "outputs": [
    {
     "output_type": "stream",
     "name": "stdout",
     "text": "* async  d6c2a15 FIx baking revert and add new baking way.\n  master 92a6209 0.2.2\n"
    },
    {
     "output_type": "execute_result",
     "data": {
      "text/plain": "<CmdyResult: ['git', 'branch', '-v']>"
     },
     "metadata": {},
     "execution_count": 13
    }
   ],
   "source": [
    "from cmdy import git\n",
    "git.branch(v=True).fg"
   ]
  },
  {
   "cell_type": "code",
   "execution_count": 14,
   "metadata": {},
   "outputs": [
    {
     "output_type": "execute_result",
     "data": {
      "text/plain": "<CmdyHolding: ['git', '--git-dir', '.', 'branch', '-v']>"
     },
     "metadata": {},
     "execution_count": 14
    }
   ],
   "source": [
    "# What if I have separate arguments for main and sub-command?\n",
    "#import cmdy\n",
    "#cmdy.git(git_dir='.', _sub=True).branch(v=True)\n",
    "git(git_dir='.', _sub=True).branch(v=True).h"
   ]
  },
  {
   "cell_type": "markdown",
   "metadata": {},
   "source": [
    "### Duplicated keys for list arguments:"
   ]
  },
  {
   "cell_type": "code",
   "execution_count": 15,
   "metadata": {},
   "outputs": [
    {
     "output_type": "stream",
     "name": "stdout",
     "text": "\n[*]\nend_of_line          = lf\nindent_size          = 4\nindent_style         = tab\ninsert_final_newline = true\nroot = true\ntab_width            = 4\n\n"
    }
   ],
   "source": [
    "from cmdy import sort\n",
    "print(sort(k=['1,1', '2,2'], t='_', _='./.editorconfig', _dupkey=True))\n",
    "# sort -k 1,1 -k 2,2 ./.editorconfig"
   ]
  },
  {
   "cell_type": "markdown",
   "metadata": {},
   "source": [
    "## Return code and exception"
   ]
  },
  {
   "cell_type": "code",
   "execution_count": 16,
   "metadata": {},
   "outputs": [
    {
     "output_type": "stream",
     "name": "stderr",
     "text": "Traceback (most recent call last):\n  File \"<ipython-input-16-092cc5b72e61>\", line 2, in <module>\n    x()\n/path/.../to/cmdy/__init__.py\", line 146, in __call__\n    ready_cfgargs, ready_popenargs, _will())\n/path/.../to/cmdy/__init__.py\", line 201, in __new__\n    result = holding.run()\n/path/.../to/cmdy/__init__.py\", line 854, in run\n    return orig_run(self, wait)\n/path/.../to/cmdy/__init__.py\", line 717, in run\n    return orig_run(self, wait)\n/path/.../to/cmdy/__init__.py\", line 327, in run\n    ret = CmdyResult(self._run(), self)\n/path/.../to/cmdy/__init__.py\", line 271, in _run\n    raise CmdyExecNotFoundError(str(fnfe)) from None\ncmdy.cmdy_util.CmdyExecNotFoundError: [Errno 2] No such file or directory: 'x': 'x'\n"
    }
   ],
   "source": [
    "from cmdy import x\n",
    "x()"
   ]
  },
  {
   "cell_type": "code",
   "execution_count": 17,
   "metadata": {},
   "outputs": [
    {
     "output_type": "stream",
     "name": "stderr",
     "text": "Traceback (most recent call last):\n  File \"<ipython-input-17-132683fc2227>\", line 2, in <module>\n    ls('non-existing-file')\n/path/.../to/cmdy/__init__.py\", line 146, in __call__\n    ready_cfgargs, ready_popenargs, _will())\n/path/.../to/cmdy/__init__.py\", line 204, in __new__\n    return result.wait()\n/path/.../to/cmdy/__init__.py\", line 407, in wait\n    raise CmdyReturnCodeError(self)\ncmdy.cmdy_util.CmdyReturnCodeError: Unexpected RETURN CODE 2, expecting: [0]\n\n  [   PID] 167164\n\n  [   CMD] ['ls non-existing-file']\n\n  [STDOUT] \n\n  [STDERR] ls: cannot access non-existing-file: No such file or directory\n\n"
    }
   ],
   "source": [
    "from cmdy import ls\n",
    "ls('non-existing-file')"
   ]
  },
  {
   "cell_type": "markdown",
   "metadata": {},
   "source": [
    "### Don't raise exception but store the return code"
   ]
  },
  {
   "cell_type": "code",
   "execution_count": 18,
   "metadata": {},
   "outputs": [
    {
     "output_type": "execute_result",
     "data": {
      "text/plain": "2"
     },
     "metadata": {},
     "execution_count": 18
    }
   ],
   "source": [
    "from cmdy import ls\n",
    "result = ls('non-existing-file', _raise=False)\n",
    "result.rc"
   ]
  },
  {
   "cell_type": "markdown",
   "metadata": {},
   "source": [
    "### Tolerance on return code"
   ]
  },
  {
   "cell_type": "code",
   "execution_count": 19,
   "metadata": {},
   "outputs": [
    {
     "output_type": "execute_result",
     "data": {
      "text/plain": "2"
     },
     "metadata": {},
     "execution_count": 19
    }
   ],
   "source": [
    "from cmdy import ls\n",
    "ls('non-existing-file', _okcode='0,2').rc # or [0,2]"
   ]
  },
  {
   "cell_type": "markdown",
   "metadata": {},
   "source": [
    "### Timeouts"
   ]
  },
  {
   "cell_type": "code",
   "execution_count": 20,
   "metadata": {},
   "outputs": [
    {
     "output_type": "stream",
     "name": "stderr",
     "text": "Traceback (most recent call last):\n  File \"<ipython-input-20-47b0ec7af55f>\", line 2, in <module>\n    sleep(3, _timeout=1)\n/path/.../to/cmdy/__init__.py\", line 146, in __call__\n    ready_cfgargs, ready_popenargs, _will())\n/path/.../to/cmdy/__init__.py\", line 204, in __new__\n    return result.wait()\n/path/.../to/cmdy/__init__.py\", line 404, in wait\n    ) from None\ncmdy.cmdy_util.CmdyTimeoutError: Timeout after 1 seconds.\n"
    }
   ],
   "source": [
    "from cmdy import sleep\n",
    "sleep(3, _timeout=1)"
   ]
  },
  {
   "cell_type": "markdown",
   "metadata": {},
   "source": [
    "## Redirections"
   ]
  },
  {
   "cell_type": "code",
   "execution_count": 21,
   "metadata": {},
   "outputs": [
    {
     "output_type": "stream",
     "name": "stdout",
     "text": "[pytest]\naddopts = -vv --cov=cmdy --cov-report xml:.coverage.xml --cov-report term-missing\nconsole_output_style = progress\njunit_family=xunit1\n\n"
    }
   ],
   "source": [
    "from cmdy import cat\n",
    "cat('./pytest.ini').redirect > '/tmp/pytest.ini'\n",
    "print(cat('/tmp/pytest.ini'))"
   ]
  },
  {
   "cell_type": "markdown",
   "metadata": {},
   "source": [
    "### Appending"
   ]
  },
  {
   "cell_type": "code",
   "execution_count": 22,
   "metadata": {},
   "outputs": [
    {
     "output_type": "stream",
     "name": "stdout",
     "text": "[pytest]\naddopts = -vv --cov=cmdy --cov-report xml:.coverage.xml --cov-report term-missing\nconsole_output_style = progress\njunit_family=xunit1\n[pytest]\naddopts = -vv --cov=cmdy --cov-report xml:.coverage.xml --cov-report term-missing\nconsole_output_style = progress\njunit_family=xunit1\n\n"
    }
   ],
   "source": [
    "# r short for redirect\n",
    "cat('./pytest.ini').r >> '/tmp/pytest.ini'\n",
    "print(cat('/tmp/pytest.ini'))"
   ]
  },
  {
   "cell_type": "markdown",
   "metadata": {},
   "source": [
    "### Redirecting to a file handler"
   ]
  },
  {
   "cell_type": "code",
   "execution_count": 23,
   "metadata": {},
   "outputs": [
    {
     "output_type": "stream",
     "name": "stdout",
     "text": "[pytest]\naddopts = -vv --cov=cmdy --cov-report xml:.coverage.xml --cov-report term-missing\nconsole_output_style = progress\njunit_family=xunit1\n\n"
    }
   ],
   "source": [
    "f = open('/tmp/pytest.ini', 'w')\n",
    "# executing fails to detect future action in with block with ipython\n",
    "# but feel free to write with block in regular python\n",
    "cat('./pytest.ini').r > f\n",
    "f.close()\n",
    "print(cat('/tmp/pytest.ini'))"
   ]
  },
  {
   "cell_type": "markdown",
   "metadata": {},
   "source": [
    "### STDIN, STDOUT and/or STDERR redirections"
   ]
  },
  {
   "cell_type": "code",
   "execution_count": 24,
   "metadata": {},
   "outputs": [
    {
     "output_type": "stream",
     "name": "stdout",
     "text": "[pytest]\naddopts = -vv --cov=cmdy --cov-report xml:.coverage.xml --cov-report term-missing\nconsole_output_style = progress\njunit_family=xunit1\n\n"
    }
   ],
   "source": [
    "from cmdy import STDIN, STDOUT, STDERR, DEVNULL\n",
    "\n",
    "c = cat().r(STDIN) < '/tmp/pytest.ini'\n",
    "print(c)"
   ]
  },
  {
   "cell_type": "code",
   "execution_count": 25,
   "metadata": {},
   "outputs": [
    {
     "output_type": "stream",
     "name": "stdout",
     "text": "None\nNone\n"
    }
   ],
   "source": [
    "# Mixed\n",
    "c = cat().r(STDIN, STDOUT) ^ '/tmp/pytest.ini' > DEVNULL\n",
    "# we can't fetch result from a redirected pipe\n",
    "print(c.stdout)\n",
    "\n",
    "# Why not '<' for STDIN?\n",
    "# Because the priority of the operator is not in sequential order.\n",
    "# We can use < for STDIN, but we need to ensure it runs first\n",
    "c = (cat().r(STDIN, STDOUT) < '/tmp/pytest.ini') > DEVNULL\n",
    "print(c.stdout)\n",
    "\n",
    "# A simple rule for multiple redirections to always use \">\" in the last place"
   ]
  },
  {
   "cell_type": "code",
   "execution_count": 26,
   "metadata": {},
   "outputs": [
    {
     "output_type": "stream",
     "name": "stdout",
     "text": "[pytest]\naddopts = -vv --cov=cmdy --cov-report xml:.coverage.xml --cov-report term-missing\nconsole_output_style = progress\njunit_family=xunit1\n\n"
    }
   ],
   "source": [
    "# Redirect stderr to stdout\n",
    "from cmdy import bash\n",
    "c = bash(c=\"cat 1>&2\").r(STDIN, STDERR) ^ '/tmp/pytest.ini' > STDOUT\n",
    "print(c.stdout)"
   ]
  },
  {
   "cell_type": "code",
   "execution_count": 27,
   "metadata": {},
   "outputs": [
    {
     "output_type": "stream",
     "name": "stdout",
     "text": "None\nNone\n"
    }
   ],
   "source": [
    "# All at the same time\n",
    "c = bash(c=\"cat 1>&2\").r(STDIN, STDOUT, STDERR) ^ '/tmp/pytest.ini' ^ DEVNULL > STDOUT\n",
    "print(c.stdout)\n",
    "print(c.stderr)"
   ]
  },
  {
   "cell_type": "markdown",
   "metadata": {},
   "source": [
    "## Pipings"
   ]
  },
  {
   "cell_type": "code",
   "execution_count": 28,
   "metadata": {},
   "outputs": [
    {
     "output_type": "stream",
     "name": "stdout",
     "text": "README.md\nREADME.rst\n\n"
    }
   ],
   "source": [
    "from cmdy import grep\n",
    "c = ls().p | grep('README')\n",
    "print(c)"
   ]
  },
  {
   "cell_type": "code",
   "execution_count": 29,
   "metadata": {},
   "outputs": [
    {
     "output_type": "stream",
     "name": "stdout",
     "text": "README.md\n\n['ls', 'grep README', 'grep md']\n"
    }
   ],
   "source": [
    "# p short for pipe\n",
    "c = ls().p | grep('README').p | grep('md')\n",
    "print(c)\n",
    "print(c.piped_strcmds)"
   ]
  },
  {
   "cell_type": "code",
   "execution_count": 30,
   "metadata": {},
   "outputs": [
    {
     "output_type": "stream",
     "name": "stdout",
     "text": "LICENSE\nREADME.md\nREADME.rst\ncmdy\ndemo.ipynb\necho.py\npyproject.toml\npytest.ini\nrequirements.txt\nsetup.py\ntests\n\n"
    }
   ],
   "source": [
    "from cmdy import _CMDY_EVENT\n",
    "# !!! Pipings should be consumed immediately!\n",
    "# !!! DO NOT do this\n",
    "ls().p\n",
    "ls() # <- Will not run as expected\n",
    "# All commands will be locked as holding until pipings are consumed\n",
    "_CMDY_EVENT.clear()\n",
    "print(ls())\n",
    "\n",
    "# See Advanced/Holdings if you want to hold a piping command for a while"
   ]
  },
  {
   "cell_type": "markdown",
   "metadata": {},
   "source": [
    "## Running command in foreground"
   ]
  },
  {
   "cell_type": "code",
   "execution_count": 31,
   "metadata": {},
   "outputs": [
    {
     "output_type": "stream",
     "name": "stdout",
     "text": "LICENSE\nREADME.md\nREADME.rst\ncmdy\ndemo.ipynb\necho.py\npyproject.toml\npytest.ini\nrequirements.txt\nsetup.py\ntests\n"
    },
    {
     "output_type": "execute_result",
     "data": {
      "text/plain": "<CmdyResult: ['ls']>"
     },
     "metadata": {},
     "execution_count": 31
    }
   ],
   "source": [
    "ls().fg"
   ]
  },
  {
   "cell_type": "code",
   "execution_count": 32,
   "metadata": {},
   "outputs": [
    {
     "output_type": "stream",
     "name": "stdout",
     "text": "[pytest]\naddopts = -vv --cov=cmdy --cov-report xml:.coverage.xml --cov-report term-missing\nconsole_output_style = progress\njunit_family=xunit1\nTraceback (most recent call last):\n  File \"<ipython-input-32-75e616da45cd>\", line 2, in <module>\n    tail('/tmp/pytest.ini', f=True, _timeout=3).fg\n/path/.../to/cmdy/cmdy_util.py\", line 166, in wrapper\n    return func(self)\n/path/.../to/cmdy/cmdy_plugin.py\", line 113, in wrapper\n    return func(self, *args, **kwargs)\n/path/.../to/cmdy/__init__.py\", line 708, in foreground\n    return self.run()\n/path/.../to/cmdy/__init__.py\", line 854, in run\n    return orig_run(self, wait)\n/path/.../to/cmdy/__init__.py\", line 735, in run\n    ret, self.data.foreground.poll_interval\n/path/.../to/miniconda3/lib/python3.7/site-packages/curio/kernel.py\", line 826, in run\n    return kernel.run(corofunc, *args)\n/path/.../to/miniconda3/lib/python3.7/site-packages/curio/kernel.py\", line 173, in run\n    raise ret_exc\n/path/.../to/miniconda3/lib/python3.7/site-packages/curio/kernel.py\", line 740, in kernel_run\n    trap = current.send(current._trap_result)\n/path/.../to/miniconda3/lib/python3.7/site-packages/curio/task.py\", line 167, in send\n    return self._send(value)\n/path/.../to/miniconda3/lib/python3.7/site-packages/curio/task.py\", line 171, in _task_runner\n    return await coro\n/path/.../to/cmdy/__init__.py\", line 694, in _timeout_wrapper\n    ) from None\ncmdy.cmdy_util.CmdyTimeoutError: Timeout after 3 seconds.\n"
    }
   ],
   "source": [
    "from cmdy import tail\n",
    "tail('/tmp/pytest.ini', f=True, _timeout=3).fg\n",
    "# This mimics the `tail -f` program\n",
    "# You will see the content comes out one after another\n",
    "# and then program hangs\n"
   ]
  },
  {
   "cell_type": "code",
   "execution_count": 33,
   "metadata": {},
   "outputs": [],
   "source": [
    "# You also write an `echo-like` program easily\n",
    "# \n",
    "# This will not run here\n",
    "# !!! NOT RUN\n",
    "# Save it to a file and run with python interpreter\n",
    "# See echo.py\n",
    "\n",
    "# from cmdy import cat\n",
    "# cat().fg(stdin=True)"
   ]
  },
  {
   "cell_type": "markdown",
   "metadata": {},
   "source": [
    "## Iterating on output"
   ]
  },
  {
   "cell_type": "code",
   "execution_count": 34,
   "metadata": {},
   "outputs": [
    {
     "output_type": "stream",
     "name": "stdout",
     "text": "LICENSE\nREADME.md\nREADME.rst\ncmdy\ndemo.ipynb\necho.py\npyproject.toml\npytest.ini\nrequirements.txt\nsetup.py\ntests\n"
    }
   ],
   "source": [
    "for line in ls().iter():\n",
    "    print(line, end='')"
   ]
  },
  {
   "cell_type": "markdown",
   "metadata": {},
   "source": [
    "### Iterating on stderr"
   ]
  },
  {
   "cell_type": "code",
   "execution_count": 35,
   "metadata": {},
   "outputs": [
    {
     "output_type": "stream",
     "name": "stdout",
     "text": "[pytest]\naddopts = -vv --cov=cmdy --cov-report xml:.coverage.xml --cov-report term-missing\nconsole_output_style = progress\njunit_family=xunit1\n"
    }
   ],
   "source": [
    "for line in bash(c=\"cat /tmp/pytest.ini 1>&2\").iter(STDERR):\n",
    "    print(line, end='')"
   ]
  },
  {
   "cell_type": "markdown",
   "metadata": {},
   "source": [
    "### Getting live output"
   ]
  },
  {
   "cell_type": "code",
   "execution_count": 36,
   "metadata": {},
   "outputs": [
    {
     "output_type": "stream",
     "name": "stdout",
     "text": "We got: 0\nWe got: 1\nWe got: 2\nWe got: 3\nWe got: 4\nWe got: 5\nWe got: 6\nWe got: 7\nWe got: 8\n"
    }
   ],
   "source": [
    "# Like we did for `tail -f` program\n",
    "# This time, we can do something with each output line\n",
    "\n",
    "# Let's use a thread to write content to a file\n",
    "# And we try to get the live contents using cmdy\n",
    "import time\n",
    "from threading import Thread\n",
    "def live_write(file, n):\n",
    "    \n",
    "    with open(file, 'w', buffering=1) as f:\n",
    "        # Let's write something every half second\n",
    "        for i in range(n):\n",
    "            f.write(str(i) + '\\n')\n",
    "            time.sleep(.5)\n",
    "            \n",
    "test_file = '/tmp/tail-f.txt'\n",
    "Thread(target=live_write, args=(test_file, 10)).start()\n",
    "\n",
    "from cmdy import tail\n",
    "\n",
    "tail_iter = tail(f=True, _=test_file).iter()\n",
    "\n",
    "for line in tail_iter:\n",
    "    # Do whatever you want with the line\n",
    "    print('We got:', line, end='')\n",
    "    if line.strip() == '8':\n",
    "        break\n",
    "        \n",
    "# make sure thread ends\n",
    "time.sleep(2)"
   ]
  },
  {
   "cell_type": "code",
   "execution_count": 37,
   "metadata": {},
   "outputs": [
    {
     "output_type": "stream",
     "name": "stdout",
     "text": "We got: 0\nWe got: 1\nWe got: 2\nWe got: 3\nWe got: 4\nWe got: 5\nWe got: 6\nWe got: 7\nWe got: 8\nWe got: 9\n"
    }
   ],
   "source": [
    "# What about timeout?\n",
    "\n",
    "# Of course you can use a timer to check inside the loop\n",
    "# You can also set a timeout for each fetch\n",
    "\n",
    "# Terminate after 10 queries\n",
    "\n",
    "Thread(target=live_write, args=(test_file, 10)).start()\n",
    "\n",
    "from cmdy import tail\n",
    "\n",
    "tail_iter = tail(f=True, _=test_file).iter()\n",
    "\n",
    "for i in range(10):\n",
    "    print('We got:', tail_iter.next(timeout=1), end='')\n",
    "    "
   ]
  },
  {
   "source": [
    "## Advanced"
   ],
   "cell_type": "markdown",
   "metadata": {}
  },
  {
   "source": [
    "### Baking `Cmdy` object\n",
    "\n",
    "Sometimes, you may want to run the same program a couple of times, with the same set of arguments or configurations, and you don't want to type those arguments every time, then you can bake the `Cmdy` object with that same arguments or configurations.\n",
    "\n",
    "For example, if you want to run `ls` as `ls -l` all the time:"
   ],
   "cell_type": "markdown",
   "metadata": {}
  },
  {
   "cell_type": "code",
   "execution_count": 38,
   "metadata": {},
   "outputs": [
    {
     "output_type": "stream",
     "name": "stdout",
     "text": "['ls', '-l']\n['ls', '-l', '-a']\n['ls']\n['ls', '-l', '-a']\n"
    }
   ],
   "source": [
    "from cmdy import ls\n",
    "ll = ls.bake(l=True)\n",
    "print(ll().h.cmd)\n",
    "print(ll(a=True).h.cmd)\n",
    "# I don't want the l flag for some commands occasionally\n",
    "print(ll(l=False).h.cmd)\n",
    "\n",
    "# Bake a baked command\n",
    "lla = ll.bake(a=True)\n",
    "print(lla().h.cmd)"
   ]
  },
  {
   "cell_type": "code",
   "execution_count": 39,
   "metadata": {},
   "outputs": [
    {
     "output_type": "stream",
     "name": "stdout",
     "text": "<CmdyHolding: ['git', '--git-dir', '.', 'branch', '-v']>\n<CmdyHolding: ['git', 'status']>\n"
    }
   ],
   "source": [
    "# I know git is always gonna run with subcommand\n",
    "git = git.bake(_sub=True)\n",
    "print(git(git_dir='.').branch(v=True).h)\n",
    "print(git().status().h)"
   ]
  },
  {
   "cell_type": "code",
   "execution_count": 40,
   "metadata": {},
   "outputs": [
    {
     "output_type": "stream",
     "name": "stdout",
     "text": "['git', 'branch']\n['git', 'bake']\n"
    }
   ],
   "source": [
    "# What if I have a subcommand call 'bake'?\n",
    "from cmdy import git, CmdyActionError\n",
    "\n",
    "print(git.branch().h.cmd)\n",
    "try:\n",
    "    git.bake().h.cmd\n",
    "except CmdyActionError as ex:\n",
    "    print(ex)\n",
    "\n",
    "# run the git with _sub\n",
    "print(git(_sub=True).bake().h.cmd)"
   ]
  },
  {
   "source": [
    "### Baking the whole module"
   ],
   "cell_type": "markdown",
   "metadata": {}
  },
  {
   "cell_type": "code",
   "execution_count": 41,
   "metadata": {},
   "outputs": [
    {
     "output_type": "stream",
     "name": "stdout",
     "text": "<CmdyHolding: ['git', '--version']>\n<CmdyHolding: ['gcc', '--version']>\n"
    }
   ],
   "source": [
    "import cmdy\n",
    "sh = cmdy(version=True)\n",
    "# anything under sh directly will be supposed to have subcommand\n",
    "from sh import git, gcc\n",
    "print(git().h)\n",
    "print(gcc().h)"
   ]
  },
  {
   "source": [
    "Note that module baking is deep copying, except the exception classes and some utils.\n",
    "This means, you would expect following behavior:"
   ],
   "cell_type": "markdown",
   "metadata": {}
  },
  {
   "cell_type": "code",
   "execution_count": 42,
   "metadata": {},
   "outputs": [
    {
     "output_type": "stream",
     "name": "stdout",
     "text": "<class 'cmdy.CmdyHolding'>\nFalse\nTrue\nCatched!\n"
    }
   ],
   "source": [
    "import cmdy\n",
    "from cmdy import CmdyHolding, CmdyExecNotFoundError\n",
    "\n",
    "sh = cmdy()\n",
    "\n",
    "c = sh.echo().h\n",
    "print(type(c))\n",
    "print(isinstance(c, CmdyHolding)) # False\n",
    "print(isinstance(c, sh.CmdyHolding)) # True\n",
    "\n",
    "try:\n",
    "    sh.notexisting()\n",
    "except CmdyExecNotFoundError:\n",
    "    # we can catch it, as CmdyExecNotFoundError is sh.CmdyExecNotFoundError\n",
    "    print('Catched!')\n"
   ]
  },
  {
   "source": [
    "### Holding objects\n",
    "\n",
    "You may have noticed that we have a couple of examples above with a final call `.h` or `.h()`, which is holding the command from running.\n",
    "\n",
    "You can do that, too, if you have multiple operations"
   ],
   "cell_type": "markdown",
   "metadata": {}
  },
  {
   "cell_type": "code",
   "execution_count": 43,
   "metadata": {},
   "outputs": [
    {
     "output_type": "stream",
     "name": "stdout",
     "text": "<CmdyHolding: ['ls']>\nTraceback (most recent call last):\n  File \"<ipython-input-43-f1aed6d50b3b>\", line 4, in <module>\n    ls().fg.h\n/path/.../to/cmdy/cmdy_util.py\", line 166, in wrapper\n    return func(self)\n/path/.../to/cmdy/cmdy_plugin.py\", line 108, in wrapper\n    raise CmdyActionError(\"Action taken after a final action.\")\ncmdy.cmdy_util.CmdyActionError: Action taken after a final action.\n"
    }
   ],
   "source": [
    "print(ls().h)\n",
    "\n",
    "# however, you can hold after some actions\n",
    "ls().fg.h"
   ]
  },
  {
   "cell_type": "code",
   "execution_count": 44,
   "metadata": {},
   "outputs": [
    {
     "output_type": "stream",
     "name": "stdout",
     "text": "Time elapsed: 0.022 s\nTime elapsed: 0.034 s\nTime elapsed: 2.043 s\n"
    }
   ],
   "source": [
    "# Once a command is on hold (by .h, .hold, .h() or .hold())\n",
    "# You have to explictly call run() to set the command running\n",
    "from time import time\n",
    "tic = time()\n",
    "c = sleep(2).h\n",
    "print(f'Time elapsed: {time() - tic:.3f} s')\n",
    "# not running even with fg\n",
    "c.fg\n",
    "print(f'Time elapsed: {time() - tic:.3f} s')\n",
    "c.run()\n",
    "print(f'Time elapsed: {time() - tic:.3f} s')"
   ]
  },
  {
   "source": [
    "### Reuse of command"
   ],
   "cell_type": "markdown",
   "metadata": {}
  },
  {
   "cell_type": "code",
   "execution_count": 45,
   "metadata": {},
   "outputs": [
    {
     "output_type": "stream",
     "name": "stdout",
     "text": "LICENSE\nREADME.md\nREADME.rst\ncmdy\ndemo.ipynb\necho.py\npyproject.toml\npytest.ini\nrequirements.txt\nsetup.py\ntests\n"
    },
    {
     "output_type": "execute_result",
     "data": {
      "text/plain": "<CmdyResult: ['ls']>"
     },
     "metadata": {},
     "execution_count": 45
    }
   ],
   "source": [
    "# After you set a command running,\n",
    "# you can retrieve the holding object,\n",
    "# and reuse it\n",
    "from cmdy import ls\n",
    "c = ls().fg\n",
    "# nothing will be produced\n",
    "c.holding.reset().r > DEVNULL"
   ]
  },
  {
   "source": [
    "### Async mode"
   ],
   "cell_type": "markdown",
   "metadata": {}
  },
  {
   "cell_type": "code",
   "execution_count": 46,
   "metadata": {},
   "outputs": [
    {
     "output_type": "stream",
     "name": "stdout",
     "text": "LICENSE\nREADME.md\nREADME.rst\ncmdy\ndemo.ipynb\necho.py\npyproject.toml\npytest.ini\nrequirements.txt\nsetup.py\ntests\n"
    }
   ],
   "source": [
    "import curio\n",
    "from cmdy import ls\n",
    "a = ls().a # async command is never blocking!\n",
    "\n",
    "async def main():\n",
    "    async for line in a:\n",
    "        print(line, end='')\n",
    "\n",
    "curio.run(main())"
   ]
  },
  {
   "source": [
    "### Extending `cmdy`\n",
    "\n",
    "All those actions for holding/result objects were implemented internally as plugins. You can right your own plugins, too.\n",
    "\n",
    "A plugin has to be defined as a class and then instantiated. \n",
    "\n",
    "**There are 6 APIs for developing a plugin for `cmdy`**\n",
    "\n",
    "- `cmdy_plugin`: A decorator for the plugin class\n",
    "- `cmdy_plugin_hold_then`: A decorator to decorate methods in the plugin class, which define actions after a holding object. Arguments:\n",
    "  - `alias`: The alias of this action (e.g. `r/redir` for `redirect`)\n",
    "  - `final`: Whether this is a final action, meaning no other actions should be followed\n",
    "  - `prop`: Whether this action can be called as a property\n",
    "  - `hold_right`: Should I put right following action on hold? This is useful when we have connectors which then can set the command running. (e.g `>` for redirect and `|` for pipe)\n",
    "- `cmdy_plugin_run_then`: A decorator to decorate methods in the plugin class, which define actions after a sync result object. Arguments are similar as `cmdy_plugin_hold_then` except that `prop` and `hold_right` are not avaialbe.\n",
    "- `cmdy_plugin_async_run_then`: Async verion of `cmdy_plugin_run_then`\n",
    "- `cmdy_plugin_add_method`: A decorator to decorate methods in the plugin class, which add methods to the `CmdyHolding`, `CmdyResult` or `CmdyAsyncResult` class. `cls` is the only argument that specifies which class we are hacking.\n",
    "- `cmdy_plugin_add_property`: Property version of `cmdy_plugin_add_method`\n",
    "\n",
    "**Notes on name conflicts:**\n",
    "\n",
    "If we need to add the methods to multiple classes in the plugin with the same name, you can define a different name with extra underscore suffix(es).\n",
    "\n",
    "**Notes on module baking:**\n",
    "\n",
    "- As we mentioned before, `cmdy` module baking are deep copying. So when we can pass the class name instead of the class itself (which you may be not sure which one to use, the orginal one or the one from the baking module) to the `add_method` and `add_property` hooks.\n",
    "- Plugin enable and disable only take effect within the same module. For example:\n",
    "\n",
    "    ```python\n",
    "    import cmdy\n",
    "    from cmdy import CMDY_PLUGIN_FG\n",
    "    sh = cmdy()\n",
    "    # only affects cmdy not sh\n",
    "    CMDY_PLUGIN_FG.disable() \n",
    "    # to disable this plugin for sh as well:\n",
    "    sh.CMDY_PLUGIN_FG.disable()\n",
    "    ```\n",
    "\n"
   ],
   "cell_type": "markdown",
   "metadata": {}
  },
  {
   "cell_type": "code",
   "execution_count": 47,
   "metadata": {},
   "outputs": [
    {
     "output_type": "stream",
     "name": "stdout",
     "text": "Hello world!\nHello world!\nHello world!\n"
    },
    {
     "output_type": "execute_result",
     "data": {
      "text/plain": "<CmdyHolding: ['ls']>"
     },
     "metadata": {},
     "execution_count": 47
    }
   ],
   "source": [
    "# An example to define a plugin\n",
    "from cmdy import (cmdy_plugin, \n",
    "                  cmdy_plugin_hold_then, \n",
    "                  cmdy_plugin_add_method, \n",
    "                  ls, \n",
    "                  CmdyActionError)\n",
    "\n",
    "@cmdy_plugin\n",
    "class MyPlugin:\n",
    "    @cmdy_plugin_add_method(\"CmdyHolding\")\n",
    "    def say_hello(self):\n",
    "        return 'Hello world!'\n",
    "\n",
    "    @cmdy_plugin_hold_then('hello')\n",
    "    def helloworld(self):\n",
    "        print(self.say_hello())\n",
    "        # keep chaining\n",
    "        return self\n",
    "\n",
    "myplugin = MyPlugin()\n",
    "\n",
    "# command will never run, \n",
    "# because we didn't do self.run() in helloworld(self)\n",
    "ls().helloworld() \n",
    "# property calls enabled by default\n",
    "ls().helloworld\n",
    "# we have alias\n",
    "ls().hello\n"
   ]
  }
 ],
 "metadata": {
  "kernelspec": {
   "display_name": "Python 3",
   "language": "python",
   "name": "python3"
  },
  "language_info": {
   "codemirror_mode": {
    "name": "ipython",
    "version": 3
   },
   "file_extension": ".py",
   "mimetype": "text/x-python",
   "name": "python",
   "nbconvert_exporter": "python",
   "pygments_lexer": "ipython3",
   "version": "3.7.3-final"
  }
 },
 "nbformat": 4,
 "nbformat_minor": 4
}