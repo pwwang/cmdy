{
 "cells": [
  {
   "cell_type": "code",
   "execution_count": 1,
   "metadata": {},
   "outputs": [],
   "source": [
    "import sys\n",
    "import re\n",
    "import traceback\n",
    "import IPython\n",
    "\n",
    "# replace the trackback handler to hide paths on server\n",
    "def exception_hook(*args, **kwargs):\n",
    "    lines = traceback.format_exception(*sys.exc_info())\n",
    "    lines = [lines[0]] + lines[2:]\n",
    "    lines = [re.sub(r'^.+(/cmdy/.+\\.py)', r'/path/.../to\\1', line) for line in lines]\n",
    "    lines = [re.sub(r'^.+(/miniconda3/.+\\.py)', r'/path/.../to\\1', line) for line in lines]\n",
    "    sys.stderr.write(''.join(lines))\n",
    "    \n",
    "IPython.core.interactiveshell.InteractiveShell.showtraceback = exception_hook"
   ]
  },
  {
   "cell_type": "markdown",
   "metadata": {},
   "source": [
    "# Usage\n",
    "\n",
    "To run this demo, please clone the whole repository."
   ]
  },
  {
   "cell_type": "markdown",
   "metadata": {},
   "source": [
    "## Basic usage"
   ]
  },
  {
   "cell_type": "code",
   "execution_count": 2,
   "metadata": {},
   "outputs": [],
   "source": [
    "from cmdy import ls"
   ]
  },
  {
   "cell_type": "code",
   "execution_count": 3,
   "metadata": {},
   "outputs": [
    {
     "output_type": "stream",
     "name": "stdout",
     "text": "LICENSE\nREADME.md\nREADME.rst\ncmdy\ndemo.ipynb\necho.py\npyproject.toml\npytest.ini\nrequirements.txt\nsetup.py\ntests\n\n"
    }
   ],
   "source": [
    "print(ls())"
   ]
  },
  {
   "cell_type": "code",
   "execution_count": 4,
   "metadata": {},
   "outputs": [
    {
     "output_type": "stream",
     "name": "stdout",
     "text": "Got: LICENSE\nGot: README.md\nGot: README.rst\nGot: cmdy\nGot: demo.ipynb\nGot: echo.py\nGot: pyproject.toml\nGot: pytest.ini\nGot: requirements.txt\nGot: setup.py\nGot: tests\n"
    }
   ],
   "source": [
    "for line in ls().iter():\n",
    "    print('Got:', line, end='')"
   ]
  },
  {
   "cell_type": "markdown",
   "metadata": {},
   "source": [
    "## With non-keyword arguments"
   ]
  },
  {
   "cell_type": "code",
   "execution_count": 5,
   "metadata": {},
   "outputs": [
    {
     "output_type": "stream",
     "name": "stdout",
     "text": "./cmdy/\n./cmdy/__init__.py\n./cmdy/cmdy_plugin.py\n./cmdy/cmdy_util.py\n./cmdy/__pycache__/\n./cmdy/__pycache__/__init__.cpython-37.pyc\n./cmdy/__pycache__/cmdy_plugin.cpython-37.pyc\n./cmdy/__pycache__/cmdy_util.cpython-37.pyc\n\n"
    }
   ],
   "source": [
    "from cmdy import tar\n",
    "print(tar(\"cvf\", \"/tmp/test.tar\", \"./cmdy\"))"
   ]
  },
  {
   "cell_type": "markdown",
   "metadata": {},
   "source": [
    "## With keyword arguments"
   ]
  },
  {
   "cell_type": "code",
   "execution_count": 6,
   "metadata": {},
   "outputs": [
    {
     "output_type": "execute_result",
     "data": {
      "text/plain": "<CmdyResult: ['curl', 'http://duckduckgo.com/', '-o', '/tmp/page.html', '--silent']>"
     },
     "metadata": {},
     "execution_count": 6
    }
   ],
   "source": [
    "from cmdy import curl\n",
    "curl(\"http://duckduckgo.com/\", o=\"/tmp/page.html\", silent=True)\n",
    "# curl http://duckduckgo.com/ -o /tmp/page.html --silent"
   ]
  },
  {
   "cell_type": "markdown",
   "metadata": {},
   "source": [
    "### Order keyword arguments"
   ]
  },
  {
   "cell_type": "code",
   "execution_count": 7,
   "metadata": {},
   "outputs": [
    {
     "output_type": "execute_result",
     "data": {
      "text/plain": "<CmdyResult: ['curl', 'http://duckduckgo.com/', '-o', '/tmp/page.html', '--silent']>"
     },
     "metadata": {},
     "execution_count": 7
    }
   ],
   "source": [
    "curl(\"http://duckduckgo.com/\", \"-o\", \"/tmp/page.html\", \"--silent\")"
   ]
  },
  {
   "cell_type": "code",
   "execution_count": 8,
   "metadata": {},
   "outputs": [
    {
     "output_type": "execute_result",
     "data": {
      "text/plain": "<CmdyResult: ['curl', 'http://duckduckgo.com/', '--silent', '-o', '/tmp/page.html']>"
     },
     "metadata": {},
     "execution_count": 8
    }
   ],
   "source": [
    "# or\n",
    "from diot import OrderedDiot\n",
    "kwargs = OrderedDiot()\n",
    "kwargs.silent = True\n",
    "kwargs.o = '/tmp/page.html'\n",
    "curl(\"http://duckduckgo.com/\", kwargs)\n",
    "# You can also use collections.OrderedDict"
   ]
  },
  {
   "cell_type": "markdown",
   "metadata": {},
   "source": [
    "### Prefix and separator for keyword arguments"
   ]
  },
  {
   "cell_type": "code",
   "execution_count": 38,
   "metadata": {},
   "outputs": [
    {
     "output_type": "execute_result",
     "data": {
      "text/plain": "'bedtools intersect -wa -wb -a query.bed -b d1.bed d2.bed d3.bed -names d1 d2 d3 -sorted'"
     },
     "metadata": {},
     "execution_count": 38
    }
   ],
   "source": [
    "from cmdy import bedtools, bcftools, ls\n",
    "bedtools.intersect(wa=True, wb=True, \n",
    "                   a='query.bed', b=['d1.bed', 'd2.bed', 'd3.bed'], \n",
    "                   names=['d1', 'd2', 'd3'], sorted=True, \n",
    "                   cmdy_prefix='-').h().strcmd\n"
   ]
  },
  {
   "cell_type": "code",
   "execution_count": 39,
   "metadata": {},
   "outputs": [
    {
     "output_type": "execute_result",
     "data": {
      "text/plain": "\"bcftools query -H --format '%CHROM\\t%POS\\t%REF\\t%ALT\\n' a.vcf b.vcf\""
     },
     "metadata": {},
     "execution_count": 39
    }
   ],
   "source": [
    "# default prefix is auto\n",
    "bcftools.query(_=['a.vcf', 'b.vcf'], H=True, \n",
    "               format='%CHROM\\t%POS\\t%REF\\t%ALT\\n').h().strcmd"
   ]
  },
  {
   "cell_type": "code",
   "execution_count": 40,
   "metadata": {},
   "outputs": [
    {
     "output_type": "execute_result",
     "data": {
      "text/plain": "['ls', '-l', '--block_size=KB']"
     },
     "metadata": {},
     "execution_count": 40
    }
   ],
   "source": [
    "ls(l=True, block_size='KB', cmdy_sep='auto').h().cmd"
   ]
  },
  {
   "cell_type": "markdown",
   "metadata": {},
   "source": [
    "### Mixed combinations of prefices and separators in one command"
   ]
  },
  {
   "cell_type": "code",
   "execution_count": 42,
   "metadata": {},
   "outputs": [
    {
     "output_type": "execute_result",
     "data": {
      "text/plain": "'java -jar picard.jar SortSam I=input.bam O=sorted.bam SORTED_ORDER=coordinate'"
     },
     "metadata": {},
     "execution_count": 42
    }
   ],
   "source": [
    "from cmdy import java\n",
    "# Note this is just an example for old verion picard. \n",
    "# Picard is changing it's style\n",
    "java({'jar': 'picard.jar', 'cmdy_prefix': '-', 'cmdy_sep': ' '}, \n",
    "     'SortSam', I='input.bam', O='sorted.bam', \n",
    "     SORTED_ORDER='coordinate', cmdy_prefix='', cmdy_sep='=').h().strcmd\n"
   ]
  },
  {
   "source": [
    "### Subcommands"
   ],
   "cell_type": "markdown",
   "metadata": {}
  },
  {
   "cell_type": "code",
   "execution_count": 32,
   "metadata": {},
   "outputs": [
    {
     "output_type": "stream",
     "name": "stdout",
     "text": "* async  36f1070 Use python-varname for will action detection.\n  master 92a6209 0.2.2\n"
    },
    {
     "output_type": "execute_result",
     "data": {
      "text/plain": "<CmdyResult: ['git', 'branch', '-v']>"
     },
     "metadata": {},
     "execution_count": 32
    }
   ],
   "source": [
    "from cmdy import git\n",
    "git.branch(v=True).fg()"
   ]
  },
  {
   "cell_type": "code",
   "execution_count": 33,
   "metadata": {},
   "outputs": [
    {
     "output_type": "execute_result",
     "data": {
      "text/plain": "['git', 'branch', '--git-dir', '.', 'branch', '-v']"
     },
     "metadata": {},
     "execution_count": 33
    }
   ],
   "source": [
    "# What if I have separate arguments for main and sub-command?\n",
    "\n",
    "c = git({'git-dir': '.'}, 'branch', {'v': True}).h()\n",
    "c.cmd"
   ]
  },
  {
   "cell_type": "markdown",
   "metadata": {},
   "source": [
    "### Duplicated keys for list arguments:"
   ]
  },
  {
   "cell_type": "code",
   "execution_count": 9,
   "metadata": {},
   "outputs": [
    {
     "output_type": "stream",
     "name": "stdout",
     "text": "\n[*]\nend_of_line          = lf\nindent_size          = 4\nindent_style         = tab\ninsert_final_newline = true\nroot = true\ntab_width            = 4\n\n"
    }
   ],
   "source": [
    "from cmdy import sort\n",
    "print(sort(k=['1,1', '2,2'], t='_', _='./.editorconfig', cmdy_dupkey=True))\n",
    "# sort -k 1,1 -k 2,2 ./.editorconfig"
   ]
  },
  {
   "cell_type": "markdown",
   "metadata": {},
   "source": [
    "## Return code and exception"
   ]
  },
  {
   "cell_type": "code",
   "execution_count": 10,
   "metadata": {},
   "outputs": [
    {
     "output_type": "stream",
     "name": "stderr",
     "text": "Traceback (most recent call last):\n  File \"<ipython-input-10-092cc5b72e61>\", line 2, in <module>\n    x()\n/path/.../to/cmdy/__init__.py\", line 134, in __call__\n    ready_cfgargs, ready_popenargs, will)\n/path/.../to/cmdy/__init__.py\", line 166, in __new__\n    result = holding.run()\n/path/.../to/cmdy/__init__.py\", line 840, in run\n    return orig_run(self, wait)\n/path/.../to/cmdy/__init__.py\", line 703, in run\n    return orig_run(self, wait)\n/path/.../to/cmdy/__init__.py\", line 287, in run\n    ret = CmdyResult(self._run(), self)\n/path/.../to/cmdy/__init__.py\", line 235, in _run\n    raise CmdyExecNotFoundError(str(fnfe)) from None\ncmdy.cmdy_util.CmdyExecNotFoundError: [Errno 2] No such file or directory: 'x': 'x'\n"
    }
   ],
   "source": [
    "from cmdy import x\n",
    "x()"
   ]
  },
  {
   "cell_type": "code",
   "execution_count": 11,
   "metadata": {},
   "outputs": [
    {
     "output_type": "stream",
     "name": "stderr",
     "text": "Traceback (most recent call last):\n  File \"<ipython-input-11-132683fc2227>\", line 2, in <module>\n    ls('non-existing-file')\n/path/.../to/cmdy/__init__.py\", line 134, in __call__\n    ready_cfgargs, ready_popenargs, will)\n/path/.../to/cmdy/__init__.py\", line 169, in __new__\n    return result.wait()\n/path/.../to/cmdy/__init__.py\", line 350, in wait\n    raise CmdyReturnCodeError(self)\ncmdy.cmdy_util.CmdyReturnCodeError: Unexpected RETURN CODE 2, expecting: [0]\n\n  [   PID] 269767\n\n  [   CMD] ['ls non-existing-file']\n\n  [STDOUT] \n\n  [STDERR] ls: cannot access non-existing-file: No such file or directory\n\n"
    }
   ],
   "source": [
    "from cmdy import ls\n",
    "ls('non-existing-file')"
   ]
  },
  {
   "cell_type": "markdown",
   "metadata": {},
   "source": [
    "### Don't raise exception but store the return code"
   ]
  },
  {
   "cell_type": "code",
   "execution_count": 12,
   "metadata": {},
   "outputs": [
    {
     "output_type": "execute_result",
     "data": {
      "text/plain": "2"
     },
     "metadata": {},
     "execution_count": 12
    }
   ],
   "source": [
    "from cmdy import ls\n",
    "result = ls('non-existing-file', cmdy_raise=False)\n",
    "result.rc"
   ]
  },
  {
   "cell_type": "markdown",
   "metadata": {},
   "source": [
    "### Tolerance on return code"
   ]
  },
  {
   "cell_type": "code",
   "execution_count": 13,
   "metadata": {},
   "outputs": [
    {
     "output_type": "execute_result",
     "data": {
      "text/plain": "2"
     },
     "metadata": {},
     "execution_count": 13
    }
   ],
   "source": [
    "from cmdy import ls\n",
    "ls('non-existing-file', cmdy_okcode='0,2').rc # or [0,2]"
   ]
  },
  {
   "cell_type": "markdown",
   "metadata": {},
   "source": [
    "### Timeouts"
   ]
  },
  {
   "cell_type": "code",
   "execution_count": 14,
   "metadata": {},
   "outputs": [
    {
     "output_type": "stream",
     "name": "stderr",
     "text": "Traceback (most recent call last):\n  File \"<ipython-input-14-6f9922c1c236>\", line 2, in <module>\n    sleep(3, cmdy_timeout=1)\n/path/.../to/cmdy/__init__.py\", line 134, in __call__\n    ready_cfgargs, ready_popenargs, will)\n/path/.../to/cmdy/__init__.py\", line 169, in __new__\n    return result.wait()\n/path/.../to/cmdy/__init__.py\", line 347, in wait\n    ) from None\ncmdy.cmdy_util.CmdyTimeoutError: Timeout after 1 seconds.\n"
    }
   ],
   "source": [
    "from cmdy import sleep\n",
    "sleep(3, cmdy_timeout=1)"
   ]
  },
  {
   "cell_type": "markdown",
   "metadata": {},
   "source": [
    "## Redirections"
   ]
  },
  {
   "cell_type": "code",
   "execution_count": 15,
   "metadata": {},
   "outputs": [
    {
     "output_type": "stream",
     "name": "stdout",
     "text": "[pytest]\naddopts = -vv --cov=cmdy --cov-report xml:.coverage.xml --cov-report term-missing\nconsole_output_style = progress\njunit_family=xunit1\n\n"
    }
   ],
   "source": [
    "from cmdy import cat\n",
    "cat('./pytest.ini').redirect() > '/tmp/pytest.ini'\n",
    "print(cat('/tmp/pytest.ini'))"
   ]
  },
  {
   "cell_type": "markdown",
   "metadata": {},
   "source": [
    "### Appending"
   ]
  },
  {
   "cell_type": "code",
   "execution_count": 16,
   "metadata": {},
   "outputs": [
    {
     "output_type": "stream",
     "name": "stdout",
     "text": "[pytest]\naddopts = -vv --cov=cmdy --cov-report xml:.coverage.xml --cov-report term-missing\nconsole_output_style = progress\njunit_family=xunit1\n[pytest]\naddopts = -vv --cov=cmdy --cov-report xml:.coverage.xml --cov-report term-missing\nconsole_output_style = progress\njunit_family=xunit1\n\n"
    }
   ],
   "source": [
    "# r short for redirect\n",
    "cat('./pytest.ini').r() >> '/tmp/pytest.ini'\n",
    "print(cat('/tmp/pytest.ini'))"
   ]
  },
  {
   "cell_type": "markdown",
   "metadata": {},
   "source": [
    "### Redirecting to a file handler"
   ]
  },
  {
   "cell_type": "code",
   "execution_count": 17,
   "metadata": {},
   "outputs": [
    {
     "output_type": "stream",
     "name": "stdout",
     "text": "[pytest]\naddopts = -vv --cov=cmdy --cov-report xml:.coverage.xml --cov-report term-missing\nconsole_output_style = progress\njunit_family=xunit1\n\n"
    }
   ],
   "source": [
    "from cmdy import cat\n",
    "f = open('/tmp/pytest.ini', 'w')\n",
    "# executing fails to detect future action in with block with ipython\n",
    "# but feel free to write with block in regular python\n",
    "cat('./pytest.ini').r() > f\n",
    "f.close()\n",
    "print(cat('/tmp/pytest.ini'))"
   ]
  },
  {
   "cell_type": "markdown",
   "metadata": {},
   "source": [
    "### STDIN, STDOUT and/or STDERR redirections"
   ]
  },
  {
   "cell_type": "code",
   "execution_count": 18,
   "metadata": {},
   "outputs": [
    {
     "output_type": "stream",
     "name": "stdout",
     "text": "[pytest]\naddopts = -vv --cov=cmdy --cov-report xml:.coverage.xml --cov-report term-missing\nconsole_output_style = progress\njunit_family=xunit1\n\n"
    }
   ],
   "source": [
    "from cmdy import STDIN, STDOUT, STDERR, DEVNULL\n",
    "\n",
    "c = cat().r(STDIN) < '/tmp/pytest.ini'\n",
    "print(c)"
   ]
  },
  {
   "cell_type": "code",
   "execution_count": 19,
   "metadata": {},
   "outputs": [
    {
     "output_type": "stream",
     "name": "stdout",
     "text": "None\nNone\n"
    }
   ],
   "source": [
    "# Mixed\n",
    "c = cat().r(STDIN, STDOUT) ^ '/tmp/pytest.ini' > DEVNULL\n",
    "# we can't fetch result from a redirected pipe\n",
    "print(c.stdout)\n",
    "\n",
    "# Why not '<' for STDIN?\n",
    "# Because the priority of the operator is not in sequential order.\n",
    "# We can use < for STDIN, but we need to ensure it runs first\n",
    "c = (cat().r(STDIN, STDOUT) < '/tmp/pytest.ini') > DEVNULL\n",
    "print(c.stdout)\n",
    "\n",
    "# A simple rule for multiple redirections to always use \">\" in the last place"
   ]
  },
  {
   "cell_type": "code",
   "execution_count": 20,
   "metadata": {},
   "outputs": [
    {
     "output_type": "stream",
     "name": "stdout",
     "text": "[pytest]\naddopts = -vv --cov=cmdy --cov-report xml:.coverage.xml --cov-report term-missing\nconsole_output_style = progress\njunit_family=xunit1\n\n"
    }
   ],
   "source": [
    "# Redirect stderr to stdout\n",
    "from cmdy import bash\n",
    "c = bash(c=\"cat 1>&2\").r(STDIN, STDERR) ^ '/tmp/pytest.ini' > STDOUT\n",
    "print(c.stdout)"
   ]
  },
  {
   "cell_type": "code",
   "execution_count": 21,
   "metadata": {},
   "outputs": [
    {
     "output_type": "stream",
     "name": "stdout",
     "text": "None\nNone\n"
    }
   ],
   "source": [
    "# All at the same time\n",
    "c = bash(c=\"cat 1>&2\").r(STDIN, STDOUT, STDERR) ^ '/tmp/pytest.ini' ^ DEVNULL > STDOUT\n",
    "print(c.stdout)\n",
    "print(c.stderr)"
   ]
  },
  {
   "cell_type": "markdown",
   "metadata": {},
   "source": [
    "## Pipings"
   ]
  },
  {
   "cell_type": "code",
   "execution_count": 22,
   "metadata": {},
   "outputs": [
    {
     "output_type": "stream",
     "name": "stdout",
     "text": "README.md\nREADME.rst\n\n"
    }
   ],
   "source": [
    "from cmdy import ls, grep\n",
    "c = ls().pipe() | grep('README')\n",
    "print(c)"
   ]
  },
  {
   "cell_type": "code",
   "execution_count": 23,
   "metadata": {},
   "outputs": [
    {
     "output_type": "stream",
     "name": "stdout",
     "text": "README.md\n\n['ls', 'grep README', 'grep md']\n"
    }
   ],
   "source": [
    "# p short for pipe\n",
    "c = ls().p() | grep('README').p() | grep('md')\n",
    "print(c)\n",
    "print(c.piped_strcmds)"
   ]
  },
  {
   "cell_type": "code",
   "execution_count": 34,
   "metadata": {},
   "outputs": [
    {
     "output_type": "stream",
     "name": "stdout",
     "text": "LICENSE\nREADME.md\nREADME.rst\ncmdy\ndemo.ipynb\necho.py\npyproject.toml\npytest.ini\nrequirements.txt\nsetup.py\ntests\n\n"
    }
   ],
   "source": [
    "from cmdy import _CMDY_EVENT\n",
    "# !!! Pipings should be consumed immediately!\n",
    "# !!! DO NOT do this\n",
    "ls().p()\n",
    "ls() # <- Will not run as expected\n",
    "# All commands will be locked as holding until pipings are consumed\n",
    "_CMDY_EVENT.clear()\n",
    "print(ls())\n",
    "\n",
    "# See Advanced/Holdings if you want to hold a piping command for a while"
   ]
  },
  {
   "cell_type": "markdown",
   "metadata": {},
   "source": [
    "## Running command in foreground"
   ]
  },
  {
   "cell_type": "code",
   "execution_count": 25,
   "metadata": {},
   "outputs": [
    {
     "output_type": "stream",
     "name": "stdout",
     "text": "LICENSE\nREADME.md\nREADME.rst\ncmdy\ndemo.ipynb\necho.py\npyproject.toml\npytest.ini\nrequirements.txt\nsetup.py\ntests\n"
    },
    {
     "output_type": "execute_result",
     "data": {
      "text/plain": "<CmdyResult: ['ls']>"
     },
     "metadata": {},
     "execution_count": 25
    }
   ],
   "source": [
    "ls().fg()"
   ]
  },
  {
   "cell_type": "code",
   "execution_count": 26,
   "metadata": {},
   "outputs": [
    {
     "output_type": "stream",
     "name": "stdout",
     "text": "[pytest]\naddopts = -vv --cov=cmdy --cov-report xml:.coverage.xml --cov-report term-missing\nconsole_output_style = progress\njunit_family=xunit1\nTraceback (most recent call last):\n  File \"<ipython-input-26-b75fd110cc82>\", line 2, in <module>\n    tail('/tmp/pytest.ini', f=True, cmdy_timeout=3).fg()\n/path/.../to/cmdy/cmdy_plugin.py\", line 95, in wrapper\n    return func(self, *args, **kwargs)\n/path/.../to/cmdy/__init__.py\", line 694, in foreground\n    return self.run()\n/path/.../to/cmdy/__init__.py\", line 840, in run\n    return orig_run(self, wait)\n/path/.../to/cmdy/__init__.py\", line 721, in run\n    ret, self.data.foreground.poll_interval\n/path/.../to/miniconda3/lib/python3.7/site-packages/curio/kernel.py\", line 826, in run\n    return kernel.run(corofunc, *args)\n/path/.../to/miniconda3/lib/python3.7/site-packages/curio/kernel.py\", line 173, in run\n    raise ret_exc\n/path/.../to/miniconda3/lib/python3.7/site-packages/curio/kernel.py\", line 740, in kernel_run\n    trap = current.send(current._trap_result)\n/path/.../to/miniconda3/lib/python3.7/site-packages/curio/task.py\", line 167, in send\n    return self._send(value)\n/path/.../to/miniconda3/lib/python3.7/site-packages/curio/task.py\", line 171, in _task_runner\n    return await coro\n/path/.../to/cmdy/__init__.py\", line 680, in _timeout_wrapper\n    ) from None\ncmdy.cmdy_util.CmdyTimeoutError: Timeout after 3 seconds.\n"
    }
   ],
   "source": [
    "from cmdy import tail\n",
    "tail('/tmp/pytest.ini', f=True, cmdy_timeout=3).fg()\n",
    "# This mimics the `tail -f` program\n",
    "# You will see the content comes out one after another\n",
    "# and then program hangs\n"
   ]
  },
  {
   "cell_type": "code",
   "execution_count": 27,
   "metadata": {},
   "outputs": [],
   "source": [
    "# You also write an `echo-like` program easily\n",
    "# \n",
    "# This will not run here\n",
    "# !!! NOT RUN\n",
    "# Save it to a file and run with python interpreter\n",
    "# See echo.py\n",
    "\n",
    "# from cmdy import cat\n",
    "# cat().fg(stdin=True)"
   ]
  },
  {
   "cell_type": "markdown",
   "metadata": {},
   "source": [
    "## Iterating on output"
   ]
  },
  {
   "cell_type": "code",
   "execution_count": 28,
   "metadata": {},
   "outputs": [
    {
     "output_type": "stream",
     "name": "stdout",
     "text": "LICENSE\nREADME.md\nREADME.rst\ncmdy\ndemo.ipynb\necho.py\npyproject.toml\npytest.ini\nrequirements.txt\nsetup.py\ntests\n"
    }
   ],
   "source": [
    "for line in ls().iter():\n",
    "    print(line, end='')"
   ]
  },
  {
   "cell_type": "markdown",
   "metadata": {},
   "source": [
    "### Iterating on stderr"
   ]
  },
  {
   "cell_type": "code",
   "execution_count": 29,
   "metadata": {},
   "outputs": [
    {
     "output_type": "stream",
     "name": "stdout",
     "text": "[pytest]\naddopts = -vv --cov=cmdy --cov-report xml:.coverage.xml --cov-report term-missing\nconsole_output_style = progress\njunit_family=xunit1\n"
    }
   ],
   "source": [
    "from cmdy import bash, STDERR\n",
    "for line in bash(c=\"cat /tmp/pytest.ini 1>&2\").iter(STDERR):\n",
    "    print(line, end='')"
   ]
  },
  {
   "cell_type": "markdown",
   "metadata": {},
   "source": [
    "### Getting live output"
   ]
  },
  {
   "cell_type": "code",
   "execution_count": 30,
   "metadata": {},
   "outputs": [
    {
     "output_type": "stream",
     "name": "stdout",
     "text": "We got: 0\nWe got: 1\nWe got: 2\nWe got: 3\nWe got: 4\nWe got: 5\nWe got: 6\nWe got: 7\nWe got: 8\n"
    }
   ],
   "source": [
    "# Like we did for `tail -f` program\n",
    "# This time, we can do something with each output line\n",
    "\n",
    "# Let's use a thread to write content to a file\n",
    "# And we try to get the live contents using cmdy\n",
    "import time\n",
    "from threading import Thread\n",
    "def live_write(file, n):\n",
    "    \n",
    "    with open(file, 'w', buffering=1) as f:\n",
    "        # Let's write something every half second\n",
    "        for i in range(n):\n",
    "            f.write(str(i) + '\\n')\n",
    "            time.sleep(.5)\n",
    "            \n",
    "test_file = '/tmp/tail-f.txt'\n",
    "Thread(target=live_write, args=(test_file, 10)).start()\n",
    "\n",
    "from cmdy import tail\n",
    "\n",
    "tail_iter = tail(f=True, _=test_file).iter()\n",
    "\n",
    "for line in tail_iter:\n",
    "    # Do whatever you want with the line\n",
    "    print('We got:', line, end='')\n",
    "    if line.strip() == '8':\n",
    "        break\n",
    "        \n",
    "# make sure thread ends\n",
    "time.sleep(2)"
   ]
  },
  {
   "cell_type": "code",
   "execution_count": 31,
   "metadata": {},
   "outputs": [
    {
     "output_type": "stream",
     "name": "stdout",
     "text": "We got: 0\nWe got: 1\nWe got: 2\nWe got: 3\nWe got: 4\nWe got: 5\nWe got: 6\nWe got: 7\nWe got: 8\nWe got: 9\n"
    }
   ],
   "source": [
    "# What about timeout?\n",
    "\n",
    "# Of course you can use a timer to check inside the loop\n",
    "# You can also set a timeout for each fetch\n",
    "\n",
    "# Terminate after 10 queries\n",
    "\n",
    "Thread(target=live_write, args=(test_file, 10)).start()\n",
    "\n",
    "from cmdy import tail\n",
    "\n",
    "tail_iter = tail(f=True, _=test_file).iter()\n",
    "\n",
    "for i in range(10):\n",
    "    print('We got:', tail_iter.next(timeout=1), end='')\n",
    "    "
   ]
  }
 ],
 "metadata": {
  "kernelspec": {
   "display_name": "Python 3",
   "language": "python",
   "name": "python3"
  },
  "language_info": {
   "codemirror_mode": {
    "name": "ipython",
    "version": 3
   },
   "file_extension": ".py",
   "mimetype": "text/x-python",
   "name": "python",
   "nbconvert_exporter": "python",
   "pygments_lexer": "ipython3",
   "version": "3.7.3-final"
  }
 },
 "nbformat": 4,
 "nbformat_minor": 4
}